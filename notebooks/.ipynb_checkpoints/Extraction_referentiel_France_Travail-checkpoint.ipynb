{
 "cells": [
  {
   "cell_type": "markdown",
   "id": "598d621d-ffac-4fe6-8e18-07c055e9d366",
   "metadata": {},
   "source": [
    "# Extraction referentiel France Travail"
   ]
  },
  {
   "cell_type": "markdown",
   "id": "feec5b23-0df7-4ace-a205-cc02b9673411",
   "metadata": {},
   "source": [
    "Ce script a pour obhectif d'extraire le référentiel associées aux offres d'emploi proposées par France Travail et de le stocker en local dans un fichier Excel."
   ]
  },
  {
   "cell_type": "markdown",
   "id": "eec0a8e4-0ec3-4176-9a6d-06ac1d1d03f3",
   "metadata": {},
   "source": [
    "Comment ?\n",
    "1. Récupération du token permettant d'utiliser l'API de France Travail.\n",
    "2. Sur la base de critères spécifiques (i.e l'intégralité des référentiels existants), lancement d'une requête pour obtenir les données correspondantes.\n",
    "3. Une fois les données trouvées, une sauvegarde en local est exécutée et les offres sont stockées dans un fichier (Excel)."
   ]
  },
  {
   "cell_type": "markdown",
   "id": "cc1ad719-59e7-4a1c-a8db-e55b3bf06c10",
   "metadata": {},
   "source": [
    "Les URL utiles sont :\n",
    "- https://francetravail.io/data/api/offres-emploi\n",
    "- https://francetravail.io/data/api/offres-emploi/documentation#/"
   ]
  },
  {
   "cell_type": "markdown",
   "id": "6a77453b-9814-4567-97aa-7f680bfdfe9b",
   "metadata": {},
   "source": [
    "## Imports"
   ]
  },
  {
   "cell_type": "code",
   "execution_count": 16,
   "id": "59e94172-c17e-4a12-9519-d1b26cd600df",
   "metadata": {},
   "outputs": [],
   "source": [
    "import http.client\n",
    "import requests\n",
    "import json\n",
    "import pandas as pd\n",
    "import os"
   ]
  },
  {
   "cell_type": "markdown",
   "id": "36abcb78-d6c7-4d07-8bb3-27a552f8be4d",
   "metadata": {},
   "source": [
    "# Procédure"
   ]
  },
  {
   "cell_type": "markdown",
   "id": "e925f9b7-e22c-44ef-9c68-b5461f2eed0d",
   "metadata": {},
   "source": [
    "## Configuration"
   ]
  },
  {
   "cell_type": "code",
   "execution_count": 17,
   "id": "acb9f951-1fee-4de0-b985-a51f7b9962d1",
   "metadata": {},
   "outputs": [],
   "source": [
    "# ---------------------------\n",
    "# CONFIGURATION\n",
    "# ---------------------------\n",
    "# France Travail (ex-Pôle emploi)\n",
    "# FT_CLIENT_ID = Defined in .env\n",
    "# FT_CLIENT_SECRET = Defined in .env\n",
    "# FT_SCOPE = Defined in .env\n",
    "\n",
    "##################  VARIABLES  ##################\n",
    "FT_CLIENT_ID = os.environ.get(\"FT_CLIENT_ID\")\n",
    "FT_CLIENT_SECRET = os.environ.get(\"FT_CLIENT_SECRET\")\n",
    "FT_SCOPE = os.environ.get(\"FT_SCOPE\")"
   ]
  },
  {
   "cell_type": "markdown",
   "id": "e59718d1-b413-4f92-bac7-bea62c4aa177",
   "metadata": {},
   "source": [
    "## Paramètres"
   ]
  },
  {
   "cell_type": "code",
   "execution_count": 18,
   "id": "a4c0895e-9226-4071-a025-ab83ca1e6f00",
   "metadata": {},
   "outputs": [],
   "source": [
    "# ---------------------------\n",
    "# PARAMETRES\n",
    "# ---------------------------\n",
    "\n",
    "# Non applicable ici."
   ]
  },
  {
   "cell_type": "markdown",
   "id": "571616a0-d3d1-47d8-82d8-2d862d7f3b80",
   "metadata": {},
   "source": [
    "## Authentification France Travail"
   ]
  },
  {
   "cell_type": "code",
   "execution_count": 19,
   "id": "ebeebd49-06b8-4b83-8278-d0434f221835",
   "metadata": {},
   "outputs": [],
   "source": [
    "# ---------------------------\n",
    "# AUTH FRANCE TRAVAIL\n",
    "# ---------------------------\n",
    "def get_ft_token():\n",
    "    url = \"https://entreprise.pole-emploi.fr/connexion/oauth2/access_token?realm=/partenaire\"\n",
    "    data = {\n",
    "        \"grant_type\": \"client_credentials\",\n",
    "        \"client_id\": FT_CLIENT_ID,\n",
    "        \"client_secret\": FT_CLIENT_SECRET,\n",
    "        \"scope\": FT_SCOPE,\n",
    "    }\n",
    "    r = requests.post(url, data=data)\n",
    "    r.raise_for_status()\n",
    "    return r.json()[\"access_token\"]"
   ]
  },
  {
   "cell_type": "markdown",
   "id": "0cb98ec0-fe6e-471e-8bb7-78e05dfea03b",
   "metadata": {},
   "source": [
    "### Lancement requête API France Travail"
   ]
  },
  {
   "cell_type": "code",
   "execution_count": 20,
   "id": "8155f48c-50cc-4aa9-a102-d56b706ccd05",
   "metadata": {},
   "outputs": [],
   "source": [
    "# API CALL FRANCE TRAVAIL\n",
    "# ---------------------------\n",
    "def fetch_france_travail_referentiel(token):\n",
    "    referential = [\"appellations\",\n",
    "        \"nafs\",\n",
    "        \"communes\",\n",
    "        \"continents\",\n",
    "        \"departements\",\n",
    "        \"domaines\",\n",
    "        \"langues\",\n",
    "        \"metiers\",\n",
    "        \"naturesContrats\",\n",
    "        \"niveauxFormations\",\n",
    "        \"pays\",\n",
    "        \"permis\",\n",
    "        \"regions\",\n",
    "        \"secteursActivites\",\n",
    "        \"themes\",\n",
    "        \"typesContrats\"]\n",
    "    headers = {\"Authorization\": f\"Bearer {token}\"}\n",
    "\n",
    "\n",
    "    # Export vers CSV\n",
    "    path = \"../data/raw_data/\"\n",
    "    file_name = \"referentiel_France_Travail.xlsx\"\n",
    " \n",
    "    # Save into different sheets of the same Excel file\n",
    "    with pd.ExcelWriter(path + file_name) as writer:\n",
    "        for ref in referential:\n",
    "            url = f\"https://api.francetravail.io/partenaire/offresdemploi/v2/referentiel/{ref}\"\n",
    "            r = requests.get(url, headers=headers)\n",
    "            r.raise_for_status()\n",
    "            data = r.json()\n",
    "            df = pd.DataFrame(data)\n",
    "            df.to_excel(writer, sheet_name=f\"{ref}\", index=False)   \n",
    "    print(f\"Référentiel exporté dans {file_name} ✅\")"
   ]
  },
  {
   "cell_type": "markdown",
   "id": "36a212d7-0a0a-48ed-a620-ab97b25ef15c",
   "metadata": {},
   "source": [
    "### Procédure principale"
   ]
  },
  {
   "cell_type": "code",
   "execution_count": 21,
   "id": "e82e7838-3f2b-4058-95fe-465efefdbc5c",
   "metadata": {
    "scrolled": true
   },
   "outputs": [
    {
     "name": "stdout",
     "output_type": "stream",
     "text": [
      "Authentification France Travail...\n",
      "Récupération du référentiel France Travail...\n",
      "Référentiel exporté dans referentiel_France_Travail.xlsx ✅\n"
     ]
    }
   ],
   "source": [
    "# ---------------------------\n",
    "# MAIN\n",
    "# ---------------------------\n",
    "if __name__ == \"__main__\":\n",
    "    print(\"Authentification France Travail...\")\n",
    "    token = get_ft_token()\n",
    "\n",
    "    print(\"Récupération du référentiel France Travail...\")\n",
    "    fetch_france_travail_referentiel(token)"
   ]
  }
 ],
 "metadata": {
  "kernelspec": {
   "display_name": "Python 3 (ipykernel)",
   "language": "python",
   "name": "python3"
  },
  "language_info": {
   "codemirror_mode": {
    "name": "ipython",
    "version": 3
   },
   "file_extension": ".py",
   "mimetype": "text/x-python",
   "name": "python",
   "nbconvert_exporter": "python",
   "pygments_lexer": "ipython3",
   "version": "3.10.6"
  }
 },
 "nbformat": 4,
 "nbformat_minor": 5
}
