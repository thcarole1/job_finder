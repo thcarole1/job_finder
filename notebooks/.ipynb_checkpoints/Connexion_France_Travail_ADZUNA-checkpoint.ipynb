{
 "cells": [
  {
   "cell_type": "markdown",
   "id": "598d621d-ffac-4fe6-8e18-07c055e9d366",
   "metadata": {},
   "source": [
    "# Connexion_France_Travail_ADZUNA.ipynb"
   ]
  },
  {
   "cell_type": "markdown",
   "id": "0a6e368b-be9e-4195-b2ab-5f3eebcdcc12",
   "metadata": {},
   "source": [
    "Ce script a pour objectif :\n",
    "- d'extraire les offres d'emploi mises à disposition par :\n",
    "  <br> _ l'API de **France Travail**\n",
    "  <br>_ de l'API **ADZUNA**\n",
    "- les stocker dans :\n",
    "  <br> _ un fichier (**CSV**) en local\n",
    "  <br> _ un fichier (**Parquet**) en local\n",
    "  <br> _ dans une **BDD PostgreSQL** en local.\n",
    "\n",
    "**/!\\ Ajouts !** : \n",
    "- Gestion des valeurs manquantes lors des requêtes API"
   ]
  },
  {
   "cell_type": "markdown",
   "id": "7129f84d-2d01-44eb-ba17-25d4cf673d3c",
   "metadata": {},
   "source": [
    "Comment ?\n",
    "1. Sur la base de critères spécifiques (mots clés, localisation, etc...), \n",
    "    - lancement d'une requête pour obtenir les offres d'emploi correspondantes via l'API France Travail\n",
    "    - lancement d'une requête pour obtenir les offres d'emploi correspondantes via l'API Adzuna\n",
    "2. Une fois les offres trouvées, vérification et suppression des doublons.\n",
    "3. Une sauvegarde en local des offres sont stockées dans un fichier (**CSV**).\n",
    "4. Une sauvegarde en local des offres sont stockées dans un fichier (**Parquet**).\n",
    "5. Une sauvegarde dans une base de données **PostgreSQL** est également effectuée en local."
   ]
  },
  {
   "cell_type": "markdown",
   "id": "d6874620-7676-4138-9b30-0ac53198d8f1",
   "metadata": {},
   "source": [
    "Les URL (FRANCE TRAVAIL) utiles sont :\n",
    "- https://francetravail.io/data/api/offres-emploi\n",
    "- https://francetravail.io/data/api/offres-emploi/documentation#/"
   ]
  },
  {
   "cell_type": "markdown",
   "id": "6736e6c8-5d60-47e3-8eb8-cbf900de62c1",
   "metadata": {},
   "source": [
    "Les URL (ADZUNA) utiles sont :\n",
    "- https://developer.adzuna.com/overview\n",
    "- https://developer.adzuna.com/docs/search\n",
    "- https://developer.adzuna.com/activedocs#!/adzuna/search\n",
    "- https://developer.adzuna.com/overview\n",
    "- https://www.adzuna.fr/details/5376850320?utm_medium=api&utm_source=6d1ef246"
   ]
  },
  {
   "cell_type": "markdown",
   "id": "6a77453b-9814-4567-97aa-7f680bfdfe9b",
   "metadata": {},
   "source": [
    "## Imports"
   ]
  },
  {
   "cell_type": "code",
   "execution_count": 65,
   "id": "59e94172-c17e-4a12-9519-d1b26cd600df",
   "metadata": {},
   "outputs": [],
   "source": [
    "import http.client\n",
    "import requests\n",
    "import json\n",
    "import pandas as pd\n",
    "import os\n",
    "import logging\n",
    "from datetime import datetime\n",
    "import hashlib\n",
    "from sqlalchemy import create_engine, text\n",
    "from sqlalchemy import Table, MetaData\n",
    "from sqlalchemy.dialects.postgresql import insert as pg_insert\n",
    "from sqlalchemy.exc import SQLAlchemyError"
   ]
  },
  {
   "cell_type": "markdown",
   "id": "742dd34f-6c24-4f94-b985-40336f97d531",
   "metadata": {},
   "source": [
    "## Procédure"
   ]
  },
  {
   "cell_type": "markdown",
   "id": "6d771d39-0166-45aa-abda-90d58d82f440",
   "metadata": {},
   "source": [
    "### Configuration"
   ]
  },
  {
   "cell_type": "code",
   "execution_count": 66,
   "id": "17e18cf1-1961-4200-9bb9-497ce803db59",
   "metadata": {},
   "outputs": [],
   "source": [
    "##################  VARIABLES  ##################\n",
    "# France Travail\n",
    "FT_CLIENT_ID = os.environ.get(\"FT_CLIENT_ID\")\n",
    "FT_CLIENT_SECRET = os.environ.get(\"FT_CLIENT_SECRET\")\n",
    "FT_SCOPE = os.environ.get(\"FT_SCOPE\")\n",
    "\n",
    "# Adzuna\n",
    "ADZUNA_CLIENT_ID = os.environ.get(\"ADZUNA_CLIENT_ID\")\n",
    "ADZUNA_CLIENT_SECRET = os.environ.get(\"ADZUNA_CLIENT_SECRET\")\n",
    "\n",
    "# Param Database PostgreSQL\n",
    "DB_NAME = os.environ.get(\"DB_NAME\", \"jobsdb\")\n",
    "DB_USER = os.environ.get(\"DB_USER\",\"jobsuser\")\n",
    "DB_PASS = os.environ.get(\"DB_PASS\", \"jobspass\")\n",
    "DB_HOST = os.environ.get(\"DB_HOST\", \"localhost\")\n",
    "DB_PORT = os.environ.get(\"DB_PORT\",\"5432\")\n",
    "\n",
    "# Nom table\n",
    "DB_TABLE_NAME = \"offres\""
   ]
  },
  {
   "cell_type": "markdown",
   "id": "c16f0bec-9475-4dd1-92d6-f6a21a487f7e",
   "metadata": {},
   "source": [
    "### Configuration Logging"
   ]
  },
  {
   "cell_type": "code",
   "execution_count": 67,
   "id": "ca4800b7-7129-4eb8-96ac-67c77a532e10",
   "metadata": {},
   "outputs": [],
   "source": [
    "# Configuration du logger\n",
    "logging.basicConfig(level=logging.INFO, format=\"%(asctime)s - %(levelname)s - %(message)s\")"
   ]
  },
  {
   "cell_type": "markdown",
   "id": "b631ac5b-b706-486a-bea2-e47ef6a4f9a4",
   "metadata": {},
   "source": [
    "### Paramètres de recherche"
   ]
  },
  {
   "cell_type": "code",
   "execution_count": 68,
   "id": "8c47f4fc-a8ce-482c-ae6d-250061c5682d",
   "metadata": {},
   "outputs": [],
   "source": [
    "# ---------------------------\n",
    "# PARAMETRES DE RECHERCHE\n",
    "# ---------------------------\n",
    "\n",
    "# Paramètres de recherche\n",
    "JOB_QUERY = \"data analyst\"\n",
    "COMMUNE = \"78300\"\n",
    "DISTANCE = 100000\n",
    "\n",
    "# Nombre d'annonces par page requise\n",
    "BLOC_PAGINATION = 50\n",
    "\n",
    "# Nombre de pages max\n",
    "MAX_PAGES = 20   # Limiter le nombre de pages récupérées"
   ]
  },
  {
   "cell_type": "markdown",
   "id": "1f8c2baf-0c81-4879-9cbb-7d3cad0f33a0",
   "metadata": {},
   "source": [
    "### Paramètres de sauvegarde"
   ]
  },
  {
   "cell_type": "code",
   "execution_count": 69,
   "id": "13daef8d-56fc-4538-994e-cecd5e78e67e",
   "metadata": {},
   "outputs": [],
   "source": [
    "# ---------------------------\n",
    "# PARAMETRES DE SAUVEGARDE\n",
    "# ---------------------------\n",
    "# Répertoires\n",
    "CSV_DIR = \"../data/csv\"\n",
    "PARQUET_DIR = \"../data/parquet\""
   ]
  },
  {
   "cell_type": "markdown",
   "id": "59b50db3-037e-4050-b095-393fd8ca5aa1",
   "metadata": {},
   "source": [
    "### Authentification France Travail"
   ]
  },
  {
   "cell_type": "code",
   "execution_count": 70,
   "id": "5eb9b1d6-25f8-496c-8422-ba1185aee138",
   "metadata": {},
   "outputs": [],
   "source": [
    "# ---------------------------\n",
    "# AUTH FRANCE TRAVAIL\n",
    "# ---------------------------\n",
    "def get_ft_token():\n",
    "    url = \"https://entreprise.pole-emploi.fr/connexion/oauth2/access_token?realm=/partenaire\"\n",
    "    data = {\n",
    "        \"grant_type\": \"client_credentials\",\n",
    "        \"client_id\": FT_CLIENT_ID,\n",
    "        \"client_secret\": FT_CLIENT_SECRET,\n",
    "        \"scope\": FT_SCOPE,\n",
    "    }\n",
    "    r = requests.post(url, data=data)\n",
    "    r.raise_for_status()\n",
    "    return r.json()[\"access_token\"]"
   ]
  },
  {
   "cell_type": "markdown",
   "id": "2d1ec349-fdb2-4e83-9f7f-da83e1e12a31",
   "metadata": {},
   "source": [
    "### Lancement requête API France Travail"
   ]
  },
  {
   "cell_type": "code",
   "execution_count": 71,
   "id": "e82e7838-3f2b-4058-95fe-465efefdbc5c",
   "metadata": {},
   "outputs": [],
   "source": [
    "# ---------------------------\n",
    "# API CALL FRANCE TRAVAIL\n",
    "# ---------------------------\n",
    "def fetch_france_travail_jobs(token, max_pages=MAX_PAGES):\n",
    "    headers = {\"Authorization\": f\"Bearer {token}\"}\n",
    "    all_jobs = []\n",
    "    b_stop_criteria = False\n",
    "    \n",
    "    for page in range(1, max_pages + 1):\n",
    "        if b_stop_criteria == False:    \n",
    "            url = f\"https://api.francetravail.io/partenaire/offresdemploi/v2/offres/search\"\n",
    "            params = {\n",
    "                \"motsCles\": JOB_QUERY,\n",
    "                \"commune\": COMMUNE,\n",
    "                \"distance\" : DISTANCE,\n",
    "                \"range\": f\"{(page-1)*BLOC_PAGINATION}-{page*BLOC_PAGINATION-1}\"  # pagination par blocs de 50\n",
    "            }\n",
    "            r = requests.get(url, headers=headers, params=params)\n",
    "            r.raise_for_status()\n",
    "            data = r.json()\n",
    "            offres = data.get(\"resultats\", [])\n",
    "                \n",
    "            for o in offres:\n",
    "                all_jobs.append({\n",
    "                    \"source\": \"France Travail\",\n",
    "                    \"id\":o.get(\"id\") if o.get(\"id\") is not None else \"None\",    \n",
    "                    \"titre\": o.get(\"intitule\") if o.get(\"intitule\") is not None else \"None\",                     \n",
    "                    \"description\": o.get(\"description\") if o.get(\"description\") is not None else \"None\", \n",
    "                    \"entreprise\": o.get(\"entreprise\", {}).get(\"nom\") if o.get(\"entreprise\", {}).get(\"nom\") is not None else \"None\", \n",
    "                    \"lieu\": o.get(\"lieuTravail\", {}).get(\"libelle\") if o.get(\"lieuTravail\", {}).get(\"libelle\") is not None else \"None\", \n",
    "                    \"latitude\": o.get(\"lieuTravail\", {}).get(\"latitude\") if o.get(\"lieuTravail\", {}) is not None else \"None\", \n",
    "                    \"longitude\": o.get(\"lieuTravail\", {}).get(\"longitude\") if o.get(\"lieuTravail\", {}) is not None else \"None\", \n",
    "                    \"type_contrat_libelle\": o.get(\"typeContratLibelle\") if o.get(\"typeContratLibelle\") is not None else \"None\", \n",
    "                    \"date_publication\": o.get(\"dateCreation\") if o.get(\"dateCreation\") is not None else \"None\",    \n",
    "                    \"url\": o.get(\"origineOffre\").get(\"urlOrigine\") if o.get(\"origineOffre\") is not None else \"None\",\n",
    "                    \"secteur_activites\": o.get(\"secteurActiviteLibelle\") if o.get(\"dateCreation\") is not None else \"None\"\n",
    "                })\n",
    "            # print(len(offres))\n",
    "\n",
    "            # Si le nombre d'offres est inférieur au nombre max d'offre par pages, c'est un signe qu'il n'y a plus d'offres à extraire après la page actuelle.\n",
    "            if len(offres) < BLOC_PAGINATION:\n",
    "                b_stop_criteria = True\n",
    "            \n",
    "    return all_jobs"
   ]
  },
  {
   "cell_type": "markdown",
   "id": "c384c3db-adb2-4c05-96c2-5f75fd670fd9",
   "metadata": {},
   "source": [
    "### Lancement de requête Adzuna"
   ]
  },
  {
   "cell_type": "code",
   "execution_count": 72,
   "id": "86633fe9-b12a-4e55-9a0a-e63ccba9d994",
   "metadata": {},
   "outputs": [],
   "source": [
    "# ---------------------------\n",
    "# API CALL ADZUNA\n",
    "# ---------------------------\n",
    "def fetch_adzuna_jobs(max_pages=MAX_PAGES):\n",
    "    headers = {\"Accept\": \"application/json\"}\n",
    "    all_jobs = []\n",
    "    b_stop_criteria = False\n",
    "    \n",
    "    for page in range(1, max_pages + 1):\n",
    "        if b_stop_criteria == False:    \n",
    "            url = f\"https://api.adzuna.com/v1/api/jobs/fr/search/{page}\"\n",
    "            params = {\n",
    "                \"app_id\" : ADZUNA_CLIENT_ID,\n",
    "                \"app_key\" : ADZUNA_CLIENT_SECRET,\n",
    "                \"title_only\": JOB_QUERY,\n",
    "                \"where\": COMMUNE,\n",
    "                \"results_per_page\" : BLOC_PAGINATION,\n",
    "                \"distance\" : DISTANCE\n",
    "            }\n",
    "            r = requests.get(url,params=params)\n",
    "            r.raise_for_status()\n",
    "            data = r.json()\n",
    "            offres = data.get(\"results\")\n",
    "                \n",
    "            # print(len(offres))\n",
    "\n",
    "            for o in offres:\n",
    "                all_jobs.append({\n",
    "                    \"source\": \"Adzuna\",\n",
    "                    \"id\" : o.get(\"id\") if o.get(\"id\") is not None else \"None\", \n",
    "                    \"titre\" : o.get(\"title\") if o.get(\"title\") is not None else \"None\", \n",
    "                    \"description\" : o.get(\"description\") if o.get(\"description\") is not None else \"None\", \n",
    "                    \"entreprise\": o.get(\"company\").get(\"display_name\") if o.get(\"company\") is not None else \"None\",\n",
    "                    \"lieu\" : o.get(\"location\").get(\"display_name\") if o.get(\"location\") is not None else \"None\",    \n",
    "                    \"latitude\" : o.get(\"latitude\") if o.get(\"latitude\") is not None else \"None\", \n",
    "                    \"longitude\" : o.get(\"longitude\") if o.get(\"longitude\") is not None else \"None\",\n",
    "                    \"type_contrat_libelle\" : o.get(\"contract_type\") if o.get(\"contract_type\") is not None else \"None\",                \n",
    "                    \"date_publication\" : o.get(\"created\") if o.get(\"created\") is not None else \"None\",  \n",
    "                    \"url\" : o.get(\"redirect_url\") if o.get(\"redirect_url\") is not None else \"None\",  \n",
    "                    \"secteur_activites\" : o.get(\"category\").get(\"label\") if o.get(\"category\") is not None else \"None\",\n",
    "                })\n",
    "                \n",
    "            # Si le nombre d'offres est inférieur au nombre max d'offre par pages, c'est un signe qu'il n'y a plus d'offres à extraire après la page actuelle.\n",
    "            if len(offres) < BLOC_PAGINATION:\n",
    "                b_stop_criteria = True\n",
    "            \n",
    "    return all_jobs"
   ]
  },
  {
   "cell_type": "markdown",
   "id": "d6429abb-111d-4a7a-a1bf-9ad698540ffd",
   "metadata": {},
   "source": [
    "### Déduplication"
   ]
  },
  {
   "cell_type": "code",
   "execution_count": 73,
   "id": "98da7cdb-9465-4684-957e-041bfe9c26a5",
   "metadata": {},
   "outputs": [],
   "source": [
    "# ---------------------------\n",
    "# DÉDUPLICATION\n",
    "# ---------------------------\n",
    "def deduplicate(jobs):\n",
    "    seen = set()\n",
    "    deduped = []\n",
    "    for job in jobs:\n",
    "        key_str = f\"{job['titre']}_{job['entreprise']}_{job['latitude']}_{job['longitude']}_{job['date_publication']}\"\n",
    "        key = hashlib.md5(key_str.encode()).hexdigest()\n",
    "        if key not in seen:\n",
    "            seen.add(key)\n",
    "            deduped.append(job)\n",
    "    return deduped"
   ]
  },
  {
   "cell_type": "markdown",
   "id": "cb94663b-d5f9-467c-98c1-0b7cd1c26705",
   "metadata": {},
   "source": [
    "### Initialisation database"
   ]
  },
  {
   "cell_type": "code",
   "execution_count": 74,
   "id": "ad547c1c-d524-4cad-8bbf-67afaafddb35",
   "metadata": {},
   "outputs": [],
   "source": [
    "# --- Initialisation DB ---\n",
    "# SUPPRESSION DE Date_creation TIMESTAMP\n",
    "def init_db(engine):\n",
    "    with engine.begin() as conn:\n",
    "        conn.execute(text(\"\"\"\n",
    "        CREATE TABLE IF NOT EXISTS offres (\n",
    "            id TEXT PRIMARY KEY,\n",
    "            source TEXT,\n",
    "            titre TEXT,\n",
    "            description TEXT,\n",
    "            entreprise TEXT,\n",
    "            lieu TEXT,\n",
    "            latitude FLOAT(4),\n",
    "            longitude FLOAT(4),\n",
    "            type_contrat_libelle TEXT,\n",
    "            date_publication DATE,\n",
    "            url TEXT,\n",
    "            secteur_activites TEXT,\n",
    "            last_updated TIMESTAMP DEFAULT CURRENT_TIMESTAMP\n",
    "        )\n",
    "        \"\"\"))\n"
   ]
  },
  {
   "cell_type": "markdown",
   "id": "eec24a33-1dd6-4d65-9d05-ad203954dbc0",
   "metadata": {},
   "source": [
    "### Sauvegarde en base PostgreSQL"
   ]
  },
  {
   "cell_type": "code",
   "execution_count": 75,
   "id": "e4f8714f-8ab5-43c6-8e03-98bce597c784",
   "metadata": {},
   "outputs": [],
   "source": [
    "def save_to_postgres_upsert(df, engine, table_name=\"offres\"):\n",
    "    \"\"\"\n",
    "    Sauvegarde un DataFrame pandas dans PostgreSQL avec UPSERT.\n",
    "    Met à jour last_updated pour chaque ligne insérée ou modifiée.\n",
    "    \n",
    "    Args:\n",
    "        df (pd.DataFrame): données à insérer\n",
    "        engine (sqlalchemy.Engine): moteur SQLAlchemy connecté à PostgreSQL\n",
    "        table_name (str): nom de la table cible\n",
    "    \n",
    "    Returns:\n",
    "        int: nombre de lignes insérées ou mises à jour\n",
    "    \"\"\"\n",
    "    \n",
    "    if df.empty:\n",
    "        logging.info(\"📭 DataFrame vide, rien à insérer.\")\n",
    "        return 0\n",
    "\n",
    "    # Nettoyage des NaN\n",
    "    df = df.where(pd.notnull(df), None)\n",
    "\n",
    "    rows = df.to_dict(orient=\"records\")\n",
    "\n",
    "    metadata = MetaData()\n",
    "    table = Table(table_name, metadata, autoload_with=engine)\n",
    "\n",
    "    now = datetime.utcnow()\n",
    "\n",
    "    # On ajoute un champ last_updated\n",
    "    for row in rows:\n",
    "        row[\"last_updated\"] = now\n",
    "        \n",
    "    # UPSERT avec mise à jour forcée de last_updated\n",
    "    stmt = pg_insert(table).values(rows)\n",
    "    stmt = stmt.on_conflict_do_update(\n",
    "        index_elements=['id'],\n",
    "        set_={\n",
    "            'source': stmt.excluded.source,\n",
    "            'titre': stmt.excluded.titre,\n",
    "            'description': stmt.excluded.description,\n",
    "            'entreprise': stmt.excluded.entreprise,\n",
    "            'lieu': stmt.excluded.lieu,\n",
    "            'latitude': stmt.excluded.latitude,\n",
    "            'longitude': stmt.excluded.longitude,    \n",
    "            'type_contrat_libelle': stmt.excluded.type_contrat_libelle,\n",
    "            'date_publication': stmt.excluded.date_publication,\n",
    "            'url': stmt.excluded.url,\n",
    "            'secteur_activites': stmt.excluded.secteur_activites,\n",
    "            # forcé à chaque exécution, même sans changement d'autres colonnes\n",
    "            'last_updated': now  \n",
    "        }\n",
    "    )\n",
    "\n",
    "    try:\n",
    "        with engine.begin() as conn:\n",
    "            result = conn.execute(stmt)\n",
    "\n",
    "        count = result.rowcount if result.rowcount is not None else len(rows)\n",
    "        logging.info(f\"✅ {count} lignes insérées ou mises à jour dans '{table_name}' (last_updated={now}).\")\n",
    "        return count\n",
    "\n",
    "    except SQLAlchemyError as e:\n",
    "        logging.error(f\"❌ Erreur lors de l'UPSERT : {str(e)}\")\n",
    "        return 0\n"
   ]
  },
  {
   "cell_type": "markdown",
   "id": "fd75112a-913c-4cc2-bdfd-f5a320ac2e9d",
   "metadata": {},
   "source": [
    "### Sauvegarde CSV"
   ]
  },
  {
   "cell_type": "code",
   "execution_count": 76,
   "id": "75d0bd1a-552d-4f1a-a5d5-6c71331c54cd",
   "metadata": {},
   "outputs": [],
   "source": [
    "# --- Sauvegarde Parquet ---\n",
    "def save_to_csv(df):\n",
    "    if df.empty:\n",
    "        return\n",
    "    os.makedirs(CSV_DIR, exist_ok=True)\n",
    "    today = datetime.now().strftime(\"%Y-%m-%d\")\n",
    "    path_csv = os.path.join(CSV_DIR, f\"{today}_offres.csv\")\n",
    "    df.to_csv(path_csv, index=False,encoding=\"utf-8\")\n",
    "    print(f\"✅ Sauvegardé dans {path_csv}\")"
   ]
  },
  {
   "cell_type": "markdown",
   "id": "5e4c69b5-e661-49b9-be53-abe6835a3a74",
   "metadata": {},
   "source": [
    "### Sauvegarde Parquet"
   ]
  },
  {
   "cell_type": "code",
   "execution_count": 77,
   "id": "0b972c51-3307-49aa-a409-21b662763b9f",
   "metadata": {},
   "outputs": [],
   "source": [
    "# --- Sauvegarde Parquet ---\n",
    "def save_to_parquet(df):\n",
    "    if df.empty:\n",
    "        return\n",
    "    os.makedirs(PARQUET_DIR, exist_ok=True)\n",
    "    today = datetime.now().strftime(\"%Y-%m-%d\")\n",
    "    path_parquet = os.path.join(PARQUET_DIR, f\"{today}_offres.parquet\")\n",
    "    df.to_parquet(path_parquet, index=False)\n",
    "    print(f\"✅ Sauvegardé dans {path_parquet}\")"
   ]
  },
  {
   "cell_type": "markdown",
   "id": "54cdda02-d6b6-40a2-bfac-934fc24cf646",
   "metadata": {},
   "source": [
    "### Pipeline principal"
   ]
  },
  {
   "cell_type": "code",
   "execution_count": 78,
   "id": "fb6f8148-0086-47ea-b620-5d32c006c054",
   "metadata": {},
   "outputs": [],
   "source": [
    "\n",
    "def run_pipeline():\n",
    "    print(\"Authentification France Travail...\")\n",
    "    token = get_ft_token()\n",
    "\n",
    "    print(\"Récupération des offres France Travail...\")\n",
    "    ft_jobs = fetch_france_travail_jobs(token)\n",
    "\n",
    "    print(\"Récupération des offres Adzuna...\")\n",
    "    adzuna_jobs = fetch_adzuna_jobs()\n",
    "\n",
    "    print(\"Fusion et déduplication...\")\n",
    "    all_jobs = ft_jobs + adzuna_jobs\n",
    "\n",
    "    if not all_jobs:\n",
    "        print(\"⚠️ Aucune offre trouvée.\")\n",
    "        return\n",
    "\n",
    "    print(f\"Nombre d'offres d'emploi avant déduplication : {len(all_jobs)}\")\n",
    "    jobs_clean = deduplicate(all_jobs)\n",
    "    print(f\"Nombre d'offres d'emploi après déduplication : {len(jobs_clean)}\")\n",
    "\n",
    "    print(\"Affichage Extract offres France Travail...\")\n",
    "    df = pd.DataFrame(jobs_clean)\n",
    "\n",
    "    # Export vers CSV\n",
    "    print(\"💾 Sauvegarde en CSV...\")\n",
    "    save_to_csv(df)\n",
    "\n",
    "    # Export vers Parquet\n",
    "    print(\"💾 Sauvegarde en Parquet...\")\n",
    "    save_to_parquet(df)\n",
    "    \n",
    "    print(f\"{len(jobs_clean)} offres uniques exportées dans {CSV_DIR} et {PARQUET_DIR} ✅\")\n",
    "\n",
    "    # Connexion DB\n",
    "    print(\"Connexion à la base PostgreSQL...\")\n",
    "    engine = create_engine(f\"postgresql+psycopg2://{DB_USER}:{DB_PASS}@{DB_HOST}:{DB_PORT}/{DB_NAME}\")\n",
    "\n",
    "    # Initier la bdd\n",
    "    init_db(engine)\n",
    "\n",
    "    print(\"💾 Sauvegarde en base PostgreSQL...\")\n",
    "    save_to_postgres_upsert(df, engine, table_name=DB_TABLE_NAME)\n",
    "    print(\"💾 Sauvegarde en base PostgreSQL TERMINEE !!!...\")\n",
    "\n",
    "    # Affichage extract offres\n",
    "    display(df.shape)\n",
    "    display(df.head(3))"
   ]
  },
  {
   "cell_type": "code",
   "execution_count": 79,
   "id": "2de560b5-c04e-4118-9662-7069e1da4bf8",
   "metadata": {},
   "outputs": [],
   "source": [
    "# # Chargement depuis CSV\n",
    "# today = datetime.now().strftime(\"%Y-%m-%d\")\n",
    "# path_parquet = os.path.join(PARQUET_DIR, f\"{today}_offres.parquet\")\n",
    "# df = pd.read_parquet(path_parquet)\n",
    "# display(df.shape)\n",
    "# display(df.head(3))"
   ]
  },
  {
   "cell_type": "markdown",
   "id": "c859727e-da41-42a1-9772-fa2708d9d558",
   "metadata": {},
   "source": [
    "### Procédure principale"
   ]
  },
  {
   "cell_type": "code",
   "execution_count": 80,
   "id": "ff03fb25-913a-46ea-a784-b7f5f54e9f61",
   "metadata": {},
   "outputs": [
    {
     "name": "stdout",
     "output_type": "stream",
     "text": [
      "Authentification France Travail...\n",
      "Récupération des offres France Travail...\n",
      "Récupération des offres Adzuna...\n",
      "Fusion et déduplication...\n",
      "Nombre d'offres d'emploi avant déduplication : 1190\n",
      "Nombre d'offres d'emploi après déduplication : 1188\n",
      "Affichage Extract offres France Travail...\n",
      "💾 Sauvegarde en CSV...\n",
      "✅ Sauvegardé dans ../data/csv/2025-09-17_offres.csv\n",
      "💾 Sauvegarde en Parquet...\n",
      "✅ Sauvegardé dans ../data/parquet/2025-09-17_offres.parquet\n",
      "1188 offres uniques exportées dans ../data/csv et ../data/parquet ✅\n",
      "Connexion à la base PostgreSQL...\n",
      "💾 Sauvegarde en base PostgreSQL...\n"
     ]
    },
    {
     "name": "stderr",
     "output_type": "stream",
     "text": [
      "2025-09-17 10:09:10,272 - INFO - ✅ 1188 lignes insérées ou mises à jour dans 'offres' (last_updated=2025-09-17 08:09:09.948724).\n"
     ]
    },
    {
     "name": "stdout",
     "output_type": "stream",
     "text": [
      "💾 Sauvegarde en base PostgreSQL TERMINEE !!!...\n"
     ]
    },
    {
     "data": {
      "text/plain": [
       "(1188, 12)"
      ]
     },
     "metadata": {},
     "output_type": "display_data"
    },
    {
     "data": {
      "text/html": [
       "<div>\n",
       "<style scoped>\n",
       "    .dataframe tbody tr th:only-of-type {\n",
       "        vertical-align: middle;\n",
       "    }\n",
       "\n",
       "    .dataframe tbody tr th {\n",
       "        vertical-align: top;\n",
       "    }\n",
       "\n",
       "    .dataframe thead th {\n",
       "        text-align: right;\n",
       "    }\n",
       "</style>\n",
       "<table border=\"1\" class=\"dataframe\">\n",
       "  <thead>\n",
       "    <tr style=\"text-align: right;\">\n",
       "      <th></th>\n",
       "      <th>source</th>\n",
       "      <th>id</th>\n",
       "      <th>titre</th>\n",
       "      <th>description</th>\n",
       "      <th>entreprise</th>\n",
       "      <th>lieu</th>\n",
       "      <th>latitude</th>\n",
       "      <th>longitude</th>\n",
       "      <th>type_contrat_libelle</th>\n",
       "      <th>date_publication</th>\n",
       "      <th>url</th>\n",
       "      <th>secteur_activites</th>\n",
       "    </tr>\n",
       "  </thead>\n",
       "  <tbody>\n",
       "    <tr>\n",
       "      <th>0</th>\n",
       "      <td>France Travail</td>\n",
       "      <td>197XKGK</td>\n",
       "      <td>Data analyst (H/F)</td>\n",
       "      <td>Pourquoi a-t-on besoin de vous?\\nDans le cadre...</td>\n",
       "      <td>SAINT-GOBAIN DISTRIBUTION BATIMENT FRANC</td>\n",
       "      <td>92 - Courbevoie</td>\n",
       "      <td>48.901819</td>\n",
       "      <td>2.267542</td>\n",
       "      <td>CDD - 12 Mois</td>\n",
       "      <td>2025-09-17T07:27:40.068Z</td>\n",
       "      <td>https://candidat.francetravail.fr/offres/reche...</td>\n",
       "      <td>Activités des sièges sociaux</td>\n",
       "    </tr>\n",
       "    <tr>\n",
       "      <th>1</th>\n",
       "      <td>France Travail</td>\n",
       "      <td>197XHCS</td>\n",
       "      <td>DATA ANALYST/SCIENTIST(H/F)</td>\n",
       "      <td>En tant que Data Analyst - Data Scientist, vou...</td>\n",
       "      <td>INFOBAM</td>\n",
       "      <td>972 - LE LAMENTIN</td>\n",
       "      <td>14.615411</td>\n",
       "      <td>-61.003361</td>\n",
       "      <td>CDI</td>\n",
       "      <td>2025-09-16T18:29:39.856Z</td>\n",
       "      <td>https://candidat.francetravail.fr/offres/reche...</td>\n",
       "      <td>Gestion d'installations informatiques</td>\n",
       "    </tr>\n",
       "    <tr>\n",
       "      <th>2</th>\n",
       "      <td>France Travail</td>\n",
       "      <td>197TNXM</td>\n",
       "      <td>Data Analyst ETL / SI Junior - H/F (H/F)</td>\n",
       "      <td>Empreinte est une société Française qui crée, ...</td>\n",
       "      <td>EMPREINTE SA</td>\n",
       "      <td>29 - BREST</td>\n",
       "      <td>48.414003</td>\n",
       "      <td>-4.491985</td>\n",
       "      <td>CDI</td>\n",
       "      <td>2025-09-12T17:46:57.887Z</td>\n",
       "      <td>https://candidat.francetravail.fr/offres/reche...</td>\n",
       "      <td>Fabrication de vêtements de dessous</td>\n",
       "    </tr>\n",
       "  </tbody>\n",
       "</table>\n",
       "</div>"
      ],
      "text/plain": [
       "           source       id                                     titre  \\\n",
       "0  France Travail  197XKGK                        Data analyst (H/F)   \n",
       "1  France Travail  197XHCS               DATA ANALYST/SCIENTIST(H/F)   \n",
       "2  France Travail  197TNXM  Data Analyst ETL / SI Junior - H/F (H/F)   \n",
       "\n",
       "                                         description  \\\n",
       "0  Pourquoi a-t-on besoin de vous?\\nDans le cadre...   \n",
       "1  En tant que Data Analyst - Data Scientist, vou...   \n",
       "2  Empreinte est une société Française qui crée, ...   \n",
       "\n",
       "                                 entreprise               lieu   latitude  \\\n",
       "0  SAINT-GOBAIN DISTRIBUTION BATIMENT FRANC    92 - Courbevoie  48.901819   \n",
       "1                                   INFOBAM  972 - LE LAMENTIN  14.615411   \n",
       "2                              EMPREINTE SA         29 - BREST  48.414003   \n",
       "\n",
       "   longitude type_contrat_libelle          date_publication  \\\n",
       "0   2.267542        CDD - 12 Mois  2025-09-17T07:27:40.068Z   \n",
       "1 -61.003361                  CDI  2025-09-16T18:29:39.856Z   \n",
       "2  -4.491985                  CDI  2025-09-12T17:46:57.887Z   \n",
       "\n",
       "                                                 url  \\\n",
       "0  https://candidat.francetravail.fr/offres/reche...   \n",
       "1  https://candidat.francetravail.fr/offres/reche...   \n",
       "2  https://candidat.francetravail.fr/offres/reche...   \n",
       "\n",
       "                       secteur_activites  \n",
       "0           Activités des sièges sociaux  \n",
       "1  Gestion d'installations informatiques  \n",
       "2    Fabrication de vêtements de dessous  "
      ]
     },
     "metadata": {},
     "output_type": "display_data"
    }
   ],
   "source": [
    "# ---------------------------\n",
    "# MAIN\n",
    "# ---------------------------\n",
    "if __name__ == \"__main__\":\n",
    "    run_pipeline()"
   ]
  }
 ],
 "metadata": {
  "kernelspec": {
   "display_name": "Python 3 (ipykernel)",
   "language": "python",
   "name": "python3"
  },
  "language_info": {
   "codemirror_mode": {
    "name": "ipython",
    "version": 3
   },
   "file_extension": ".py",
   "mimetype": "text/x-python",
   "name": "python",
   "nbconvert_exporter": "python",
   "pygments_lexer": "ipython3",
   "version": "3.10.6"
  }
 },
 "nbformat": 4,
 "nbformat_minor": 5
}
