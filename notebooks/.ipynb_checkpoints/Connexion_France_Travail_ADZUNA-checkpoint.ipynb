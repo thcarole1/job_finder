{
 "cells": [
  {
   "cell_type": "markdown",
   "id": "598d621d-ffac-4fe6-8e18-07c055e9d366",
   "metadata": {},
   "source": [
    "# Connexion_France_Travail_ADZUNA.ipynb"
   ]
  },
  {
   "cell_type": "markdown",
   "id": "0a6e368b-be9e-4195-b2ab-5f3eebcdcc12",
   "metadata": {},
   "source": [
    "Ce script a pour objectif d'extraire les offres d'emploi mises à disposition par l'API de France Travail et de l'API ADZUNA et de les stocker dans un fichier (CSV ou Excel) en local."
   ]
  },
  {
   "cell_type": "markdown",
   "id": "7129f84d-2d01-44eb-ba17-25d4cf673d3c",
   "metadata": {},
   "source": [
    "Comment ?\n",
    "1. Sur la base de critères spécifiques (mots clés, localisation, etc...), \n",
    "    - lancement d'une requête pour obtenir les offres d'emploi correspondantes via l'API France Travail\n",
    "    - lancement d'une requête pour obtenir les offres d'emploi correspondantes via l'API Adzuna\n",
    "2. Une fois les offres trouvées, vérification et suppression des doublons.\n",
    "3. Une sauvegarde en local des offres sont stockées dans un fichier (CSV ou Excel)."
   ]
  },
  {
   "cell_type": "markdown",
   "id": "d6874620-7676-4138-9b30-0ac53198d8f1",
   "metadata": {},
   "source": [
    "Les URL (FRANCE TRAVAIL) utiles sont :\n",
    "- https://francetravail.io/data/api/offres-emploi\n",
    "- https://francetravail.io/data/api/offres-emploi/documentation#/"
   ]
  },
  {
   "cell_type": "markdown",
   "id": "6736e6c8-5d60-47e3-8eb8-cbf900de62c1",
   "metadata": {},
   "source": [
    "Les URL (ADZUNA) utiles sont :\n",
    "- https://developer.adzuna.com/overview\n",
    "- https://developer.adzuna.com/docs/search\n",
    "- https://developer.adzuna.com/activedocs#!/adzuna/search\n",
    "- https://developer.adzuna.com/overview\n",
    "- https://www.adzuna.fr/details/5376850320?utm_medium=api&utm_source=6d1ef246"
   ]
  },
  {
   "cell_type": "markdown",
   "id": "6a77453b-9814-4567-97aa-7f680bfdfe9b",
   "metadata": {},
   "source": [
    "## Imports"
   ]
  },
  {
   "cell_type": "code",
   "execution_count": 33,
   "id": "59e94172-c17e-4a12-9519-d1b26cd600df",
   "metadata": {},
   "outputs": [],
   "source": [
    "import http.client\n",
    "import requests\n",
    "import json\n",
    "import pandas as pd\n",
    "import os\n",
    "import hashlib"
   ]
  },
  {
   "cell_type": "markdown",
   "id": "742dd34f-6c24-4f94-b985-40336f97d531",
   "metadata": {},
   "source": [
    "## Procédure"
   ]
  },
  {
   "cell_type": "markdown",
   "id": "6d771d39-0166-45aa-abda-90d58d82f440",
   "metadata": {},
   "source": [
    "### Configuration"
   ]
  },
  {
   "cell_type": "code",
   "execution_count": 34,
   "id": "17e18cf1-1961-4200-9bb9-497ce803db59",
   "metadata": {},
   "outputs": [],
   "source": [
    "##################  VARIABLES  ##################\n",
    "# France Travail\n",
    "FT_CLIENT_ID = os.environ.get(\"FT_CLIENT_ID\")\n",
    "FT_CLIENT_SECRET = os.environ.get(\"FT_CLIENT_SECRET\")\n",
    "FT_SCOPE = os.environ.get(\"FT_SCOPE\")\n",
    "\n",
    "# Adzuna\n",
    "ADZUNA_CLIENT_ID = os.environ.get(\"ADZUNA_CLIENT_ID\")\n",
    "ADZUNA_CLIENT_SECRET = os.environ.get(\"ADZUNA_CLIENT_SECRET\")"
   ]
  },
  {
   "cell_type": "markdown",
   "id": "b631ac5b-b706-486a-bea2-e47ef6a4f9a4",
   "metadata": {},
   "source": [
    "### Paramètres de recherche"
   ]
  },
  {
   "cell_type": "code",
   "execution_count": 35,
   "id": "8c47f4fc-a8ce-482c-ae6d-250061c5682d",
   "metadata": {},
   "outputs": [],
   "source": [
    "# ---------------------------\n",
    "# PARAMETRES\n",
    "# ---------------------------\n",
    "\n",
    "# Paramètres de recherche\n",
    "JOB_QUERY = \"data analyst\"\n",
    "COMMUNE = \"78300\"\n",
    "DISTANCE = 100000\n",
    "\n",
    "# Nombre d'annonces par page requise\n",
    "BLOC_PAGINATION = 50\n",
    "\n",
    "# Nombre de pages max\n",
    "MAX_PAGES = 20   # Limiter le nombre de pages récupérées"
   ]
  },
  {
   "cell_type": "markdown",
   "id": "59b50db3-037e-4050-b095-393fd8ca5aa1",
   "metadata": {},
   "source": [
    "### Authentification France Travail"
   ]
  },
  {
   "cell_type": "code",
   "execution_count": 36,
   "id": "5eb9b1d6-25f8-496c-8422-ba1185aee138",
   "metadata": {},
   "outputs": [],
   "source": [
    "# ---------------------------\n",
    "# AUTH FRANCE TRAVAIL\n",
    "# ---------------------------\n",
    "def get_ft_token():\n",
    "    url = \"https://entreprise.pole-emploi.fr/connexion/oauth2/access_token?realm=/partenaire\"\n",
    "    data = {\n",
    "        \"grant_type\": \"client_credentials\",\n",
    "        \"client_id\": FT_CLIENT_ID,\n",
    "        \"client_secret\": FT_CLIENT_SECRET,\n",
    "        \"scope\": FT_SCOPE,\n",
    "    }\n",
    "    r = requests.post(url, data=data)\n",
    "    r.raise_for_status()\n",
    "    return r.json()[\"access_token\"]"
   ]
  },
  {
   "cell_type": "markdown",
   "id": "2d1ec349-fdb2-4e83-9f7f-da83e1e12a31",
   "metadata": {},
   "source": [
    "### Lancement requête API France Travail"
   ]
  },
  {
   "cell_type": "code",
   "execution_count": 37,
   "id": "e82e7838-3f2b-4058-95fe-465efefdbc5c",
   "metadata": {},
   "outputs": [],
   "source": [
    "# ---------------------------\n",
    "# API CALL FRANCE TRAVAIL\n",
    "# ---------------------------\n",
    "def fetch_france_travail_jobs(token, max_pages=MAX_PAGES):\n",
    "    headers = {\"Authorization\": f\"Bearer {token}\"}\n",
    "    all_jobs = []\n",
    "    b_stop_criteria = False\n",
    "    \n",
    "    for page in range(1, max_pages + 1):\n",
    "        if b_stop_criteria == False:    \n",
    "            url = f\"https://api.francetravail.io/partenaire/offresdemploi/v2/offres/search\"\n",
    "            params = {\n",
    "                \"motsCles\": JOB_QUERY,\n",
    "                \"commune\": COMMUNE,\n",
    "                \"distance\" : DISTANCE,\n",
    "                \"range\": f\"{(page-1)*BLOC_PAGINATION}-{page*BLOC_PAGINATION-1}\"  # pagination par blocs de 50\n",
    "            }\n",
    "            r = requests.get(url, headers=headers, params=params)\n",
    "            r.raise_for_status()\n",
    "            data = r.json()\n",
    "            offres = data.get(\"resultats\", [])\n",
    "                \n",
    "            for o in offres:\n",
    "                all_jobs.append({\n",
    "                    \"Source\": \"France Travail\",\n",
    "                    \"id\":o.get(\"id\"),    \n",
    "                    \"Titre\": o.get(\"intitule\"),\n",
    "                    \"Description\": o.get(\"description\"),\n",
    "                    \"Entreprise\": o.get(\"entreprise\", {}).get(\"nom\"),\n",
    "                    \"Lieu\": o.get(\"lieuTravail\", {}).get(\"libelle\"),\n",
    "                    \"Latitude\": o.get(\"lieuTravail\", {}).get(\"latitude\"),\n",
    "                    \"Longitude\": o.get(\"lieuTravail\", {}).get(\"longitude\"),\n",
    "                    \"typeContratLibelle\": o.get(\"typeContratLibelle\"),\n",
    "                    \"Date_creation\": o.get(\"dateCreation\"),\n",
    "                    \"URL\": o.get(\"origineOffre\").get(\"urlOrigine\") if o.get(\"origineOffre\") is not None else \"None\",\n",
    "                    \"Secteur_activites\": o.get(\"secteurActiviteLibelle\"),\n",
    "                })\n",
    "            # print(len(offres))\n",
    "\n",
    "            # Si le nombre d'offres est inférieur au nombre max d'offre par pages, c'est un signe qu'il n'y a plus d'offres à extraire après la page actuelle.\n",
    "            if len(offres) < BLOC_PAGINATION:\n",
    "                b_stop_criteria = True\n",
    "            \n",
    "    return all_jobs"
   ]
  },
  {
   "cell_type": "markdown",
   "id": "c384c3db-adb2-4c05-96c2-5f75fd670fd9",
   "metadata": {},
   "source": [
    "### Lancement de requête Adzuna"
   ]
  },
  {
   "cell_type": "code",
   "execution_count": 38,
   "id": "86633fe9-b12a-4e55-9a0a-e63ccba9d994",
   "metadata": {},
   "outputs": [],
   "source": [
    "# ---------------------------\n",
    "# API CALL ADZUNA\n",
    "# ---------------------------\n",
    "def fetch_adzuna_jobs(max_pages=MAX_PAGES):\n",
    "    headers = {\"Accept\": \"application/json\"}\n",
    "    all_jobs = []\n",
    "    b_stop_criteria = False\n",
    "    \n",
    "    for page in range(1, max_pages + 1):\n",
    "        if b_stop_criteria == False:    \n",
    "            url = f\"https://api.adzuna.com/v1/api/jobs/fr/search/{page}\"\n",
    "            params = {\n",
    "                \"app_id\" : ADZUNA_CLIENT_ID,\n",
    "                \"app_key\" : ADZUNA_CLIENT_SECRET,\n",
    "                \"title_only\": JOB_QUERY,\n",
    "                \"where\": COMMUNE,\n",
    "                \"results_per_page\" : BLOC_PAGINATION,\n",
    "                \"distance\" : DISTANCE\n",
    "            }\n",
    "            r = requests.get(url,params=params)\n",
    "            r.raise_for_status()\n",
    "            data = r.json()\n",
    "            offres = data.get(\"results\")\n",
    "                \n",
    "            # print(len(offres))\n",
    "\n",
    "            for o in offres:\n",
    "                all_jobs.append({\n",
    "                    \"Source\": \"Adzuna\",\n",
    "                    \"id\" : o.get(\"id\"),\n",
    "                    \"Titre\" : o.get(\"title\"),\n",
    "                    \"Description\" : o.get(\"description\"),\n",
    "                    \"Entreprise\": o.get(\"company\").get(\"display_name\") if o.get(\"company\") is not None else \"None\",\n",
    "                    \"Lieu\" : o.get(\"location\").get(\"display_name\") if o.get(\"location\") is not None else \"None\",  \n",
    "                    \"Latitude\" : o.get(\"latitude\"),\n",
    "                    \"Longitude\" : o.get(\"longitude\"),\n",
    "                    \"typeContratLibelle\" : o.get(\"contract_type\"),                    \n",
    "                    \"Date_creation\" : o.get(\"created\"),\n",
    "                    \"URL\" : o.get(\"redirect_url\"),\n",
    "                    \"Secteur_activites\" : o.get(\"category\").get(\"label\") if o.get(\"category\") is not None else \"None\",\n",
    "                })\n",
    "                \n",
    "            # Si le nombre d'offres est inférieur au nombre max d'offre par pages, c'est un signe qu'il n'y a plus d'offres à extraire après la page actuelle.\n",
    "            if len(offres) < BLOC_PAGINATION:\n",
    "                b_stop_criteria = True\n",
    "            \n",
    "    return all_jobs"
   ]
  },
  {
   "cell_type": "markdown",
   "id": "d6429abb-111d-4a7a-a1bf-9ad698540ffd",
   "metadata": {},
   "source": [
    "### Déduplication"
   ]
  },
  {
   "cell_type": "code",
   "execution_count": 39,
   "id": "5085c1a1-5949-48b2-9d61-3e15f46a94c1",
   "metadata": {},
   "outputs": [],
   "source": [
    "# ---------------------------\n",
    "# DÉDUPLICATION\n",
    "# ---------------------------\n",
    "def deduplicate(jobs):\n",
    "    seen = set()\n",
    "    deduped = []\n",
    "    for job in jobs:\n",
    "        key_str = f\"{job['Titre']}_{job['Entreprise']}_{job['Latitude']}_{job['Longitude']}_{job['Date_creation']}\"\n",
    "        key = hashlib.md5(key_str.encode()).hexdigest()\n",
    "        if key not in seen:\n",
    "            seen.add(key)\n",
    "            deduped.append(job)\n",
    "    return deduped"
   ]
  },
  {
   "cell_type": "markdown",
   "id": "c859727e-da41-42a1-9772-fa2708d9d558",
   "metadata": {},
   "source": [
    "### Procédure principale"
   ]
  },
  {
   "cell_type": "code",
   "execution_count": 40,
   "id": "cafad097-826e-491c-8b05-2fa7b82a3bb0",
   "metadata": {},
   "outputs": [
    {
     "name": "stdout",
     "output_type": "stream",
     "text": [
      "Authentification France Travail...\n",
      "Récupération des offres France Travail...\n",
      "Récupération des offres Adzuna...\n",
      "Fusion et déduplication...\n",
      "Nombre d'offres d'emploi avant déduplication : 1182\n",
      "Nombre d'offres d'emploi après déduplication : 1180\n",
      "Affichage Extract offres France Travail...\n"
     ]
    },
    {
     "data": {
      "text/plain": [
       "(1180, 12)"
      ]
     },
     "metadata": {},
     "output_type": "display_data"
    },
    {
     "data": {
      "text/html": [
       "<div>\n",
       "<style scoped>\n",
       "    .dataframe tbody tr th:only-of-type {\n",
       "        vertical-align: middle;\n",
       "    }\n",
       "\n",
       "    .dataframe tbody tr th {\n",
       "        vertical-align: top;\n",
       "    }\n",
       "\n",
       "    .dataframe thead th {\n",
       "        text-align: right;\n",
       "    }\n",
       "</style>\n",
       "<table border=\"1\" class=\"dataframe\">\n",
       "  <thead>\n",
       "    <tr style=\"text-align: right;\">\n",
       "      <th></th>\n",
       "      <th>Source</th>\n",
       "      <th>id</th>\n",
       "      <th>Titre</th>\n",
       "      <th>Description</th>\n",
       "      <th>Entreprise</th>\n",
       "      <th>Lieu</th>\n",
       "      <th>Latitude</th>\n",
       "      <th>Longitude</th>\n",
       "      <th>typeContratLibelle</th>\n",
       "      <th>Date_creation</th>\n",
       "      <th>URL</th>\n",
       "      <th>Secteur_activites</th>\n",
       "    </tr>\n",
       "  </thead>\n",
       "  <tbody>\n",
       "    <tr>\n",
       "      <th>0</th>\n",
       "      <td>France Travail</td>\n",
       "      <td>197NKZD</td>\n",
       "      <td>Consultant Data confirmé - Data Analyst H/F</td>\n",
       "      <td>Nous recherchons un(e) Consultant(e) Data conf...</td>\n",
       "      <td>EFFIDIC</td>\n",
       "      <td>49 - TRELAZE</td>\n",
       "      <td>47.445931</td>\n",
       "      <td>-0.466974</td>\n",
       "      <td>CDI</td>\n",
       "      <td>2025-09-09T09:24:40.097Z</td>\n",
       "      <td>https://candidat.francetravail.fr/offres/reche...</td>\n",
       "      <td>Conseil en systèmes et logiciels informatiques</td>\n",
       "    </tr>\n",
       "    <tr>\n",
       "      <th>1</th>\n",
       "      <td>France Travail</td>\n",
       "      <td>197PLRS</td>\n",
       "      <td>Data Analyst (h/f)</td>\n",
       "      <td>Adecco recherche pour l'un de ses clients, une...</td>\n",
       "      <td>ADECCO FRANCE</td>\n",
       "      <td>13 - Marignane</td>\n",
       "      <td>43.407483</td>\n",
       "      <td>5.255358</td>\n",
       "      <td>Intérim - 12 Mois</td>\n",
       "      <td>2025-09-09T16:27:22.779Z</td>\n",
       "      <td>https://candidat.francetravail.fr/offres/reche...</td>\n",
       "      <td>Activités des agences de travail temporaire</td>\n",
       "    </tr>\n",
       "    <tr>\n",
       "      <th>2</th>\n",
       "      <td>France Travail</td>\n",
       "      <td>197FWLH</td>\n",
       "      <td>Data analyst senior (H/F)</td>\n",
       "      <td>Data Analyst Senior F/H - CDI - La Défense\\n\\n...</td>\n",
       "      <td>TINGARI</td>\n",
       "      <td>92 - PUTEAUX</td>\n",
       "      <td>48.884019</td>\n",
       "      <td>2.237979</td>\n",
       "      <td>CDI</td>\n",
       "      <td>2025-09-02T11:49:20.769Z</td>\n",
       "      <td>https://candidat.francetravail.fr/offres/reche...</td>\n",
       "      <td>Conseil pour les affaires et autres conseils d...</td>\n",
       "    </tr>\n",
       "    <tr>\n",
       "      <th>3</th>\n",
       "      <td>France Travail</td>\n",
       "      <td>197GFLX</td>\n",
       "      <td>Data analyst (F/H)</td>\n",
       "      <td>Directement rattaché au DSI , vous serez un él...</td>\n",
       "      <td>EXPECTRA</td>\n",
       "      <td>34 - Montpellier</td>\n",
       "      <td>43.626378</td>\n",
       "      <td>3.882533</td>\n",
       "      <td>CDI</td>\n",
       "      <td>2025-09-02T14:41:39.561Z</td>\n",
       "      <td>https://candidat.francetravail.fr/offres/reche...</td>\n",
       "      <td>Activités des agences de travail temporaire</td>\n",
       "    </tr>\n",
       "    <tr>\n",
       "      <th>4</th>\n",
       "      <td>France Travail</td>\n",
       "      <td>197DQJQ</td>\n",
       "      <td>Data Analyst (H/F)</td>\n",
       "      <td>Le Groupe WATT&amp;CO, acteur reconnu depuis 15 an...</td>\n",
       "      <td>WATT &amp; CO INGENIERIE</td>\n",
       "      <td>81 - MAZAMET</td>\n",
       "      <td>43.489968</td>\n",
       "      <td>2.376418</td>\n",
       "      <td>CDI</td>\n",
       "      <td>2025-09-01T14:10:09.118Z</td>\n",
       "      <td>https://candidat.francetravail.fr/offres/reche...</td>\n",
       "      <td>Ingénierie, études techniques</td>\n",
       "    </tr>\n",
       "  </tbody>\n",
       "</table>\n",
       "</div>"
      ],
      "text/plain": [
       "           Source       id                                        Titre  \\\n",
       "0  France Travail  197NKZD  Consultant Data confirmé - Data Analyst H/F   \n",
       "1  France Travail  197PLRS                           Data Analyst (h/f)   \n",
       "2  France Travail  197FWLH                    Data analyst senior (H/F)   \n",
       "3  France Travail  197GFLX                           Data analyst (F/H)   \n",
       "4  France Travail  197DQJQ                           Data Analyst (H/F)   \n",
       "\n",
       "                                         Description            Entreprise  \\\n",
       "0  Nous recherchons un(e) Consultant(e) Data conf...               EFFIDIC   \n",
       "1  Adecco recherche pour l'un de ses clients, une...         ADECCO FRANCE   \n",
       "2  Data Analyst Senior F/H - CDI - La Défense\\n\\n...               TINGARI   \n",
       "3  Directement rattaché au DSI , vous serez un él...              EXPECTRA   \n",
       "4  Le Groupe WATT&CO, acteur reconnu depuis 15 an...  WATT & CO INGENIERIE   \n",
       "\n",
       "               Lieu   Latitude  Longitude typeContratLibelle  \\\n",
       "0      49 - TRELAZE  47.445931  -0.466974                CDI   \n",
       "1    13 - Marignane  43.407483   5.255358  Intérim - 12 Mois   \n",
       "2      92 - PUTEAUX  48.884019   2.237979                CDI   \n",
       "3  34 - Montpellier  43.626378   3.882533                CDI   \n",
       "4      81 - MAZAMET  43.489968   2.376418                CDI   \n",
       "\n",
       "              Date_creation  \\\n",
       "0  2025-09-09T09:24:40.097Z   \n",
       "1  2025-09-09T16:27:22.779Z   \n",
       "2  2025-09-02T11:49:20.769Z   \n",
       "3  2025-09-02T14:41:39.561Z   \n",
       "4  2025-09-01T14:10:09.118Z   \n",
       "\n",
       "                                                 URL  \\\n",
       "0  https://candidat.francetravail.fr/offres/reche...   \n",
       "1  https://candidat.francetravail.fr/offres/reche...   \n",
       "2  https://candidat.francetravail.fr/offres/reche...   \n",
       "3  https://candidat.francetravail.fr/offres/reche...   \n",
       "4  https://candidat.francetravail.fr/offres/reche...   \n",
       "\n",
       "                                   Secteur_activites  \n",
       "0     Conseil en systèmes et logiciels informatiques  \n",
       "1        Activités des agences de travail temporaire  \n",
       "2  Conseil pour les affaires et autres conseils d...  \n",
       "3        Activités des agences de travail temporaire  \n",
       "4                      Ingénierie, études techniques  "
      ]
     },
     "metadata": {},
     "output_type": "display_data"
    },
    {
     "name": "stdout",
     "output_type": "stream",
     "text": [
      "1180 offres uniques exportées dans offres_emploi_france_travail_adzuna.csv ✅\n"
     ]
    }
   ],
   "source": [
    "# ---------------------------\n",
    "# MAIN\n",
    "# ---------------------------\n",
    "if __name__ == \"__main__\":\n",
    "    print(\"Authentification France Travail...\")\n",
    "    token = get_ft_token()\n",
    "\n",
    "    print(\"Récupération des offres France Travail...\")\n",
    "    ft_jobs = fetch_france_travail_jobs(token)\n",
    "\n",
    "    print(\"Récupération des offres Adzuna...\")\n",
    "    adzuna_jobs = fetch_adzuna_jobs()\n",
    "\n",
    "    print(\"Fusion et déduplication...\")\n",
    "    all_jobs = ft_jobs + adzuna_jobs\n",
    "\n",
    "    print(f\"Nombre d'offres d'emploi avant déduplication : {len(all_jobs)}\")\n",
    "    jobs_clean = deduplicate(all_jobs)\n",
    "    print(f\"Nombre d'offres d'emploi après déduplication : {len(jobs_clean)}\")\n",
    "\n",
    "    print(\"Affichage Extract offres France Travail...\")\n",
    "    df = pd.DataFrame(jobs_clean)\n",
    "    display(df.shape)\n",
    "    display(df.head())\n",
    "\n",
    "    # Export vers CSV\n",
    "    path = \"../data/raw_data/\"\n",
    "    file_name = \"offres_emploi_france_travail_adzuna.csv\"\n",
    "    \n",
    "    df.to_csv(path + file_name, index=False, encoding=\"utf-8\")\n",
    "    print(f\"{len(jobs_clean)} offres uniques exportées dans {file_name} ✅\")"
   ]
  }
 ],
 "metadata": {
  "kernelspec": {
   "display_name": "Python 3 (ipykernel)",
   "language": "python",
   "name": "python3"
  },
  "language_info": {
   "codemirror_mode": {
    "name": "ipython",
    "version": 3
   },
   "file_extension": ".py",
   "mimetype": "text/x-python",
   "name": "python",
   "nbconvert_exporter": "python",
   "pygments_lexer": "ipython3",
   "version": "3.10.6"
  }
 },
 "nbformat": 4,
 "nbformat_minor": 5
}
