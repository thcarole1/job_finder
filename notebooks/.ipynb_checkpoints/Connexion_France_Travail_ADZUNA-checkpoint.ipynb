{
 "cells": [
  {
   "cell_type": "markdown",
   "id": "598d621d-ffac-4fe6-8e18-07c055e9d366",
   "metadata": {},
   "source": [
    "# Connexion_France_Travail_ADZUNA.ipynb"
   ]
  },
  {
   "cell_type": "markdown",
   "id": "0a6e368b-be9e-4195-b2ab-5f3eebcdcc12",
   "metadata": {},
   "source": [
    "Ce script a pour objectif :\n",
    "- d'extraire les offres d'emploi mises à disposition par :\n",
    "  <br> _ l'API de **France Travail**\n",
    "  <br>_ de l'API **ADZUNA**\n",
    "- les stocker dans :\n",
    "  <br> _ un fichier (**CSV**) en local\n",
    "  <br> _ un fichier (**Parquet**) en local\n",
    "  <br> _ dans une **BDD PostgreSQL** en local."
   ]
  },
  {
   "cell_type": "markdown",
   "id": "7129f84d-2d01-44eb-ba17-25d4cf673d3c",
   "metadata": {},
   "source": [
    "Comment ?\n",
    "1. Sur la base de critères spécifiques (mots clés, localisation, etc...), \n",
    "    - lancement d'une requête pour obtenir les offres d'emploi correspondantes via l'API France Travail\n",
    "    - lancement d'une requête pour obtenir les offres d'emploi correspondantes via l'API Adzuna\n",
    "2. Une fois les offres trouvées, vérification et suppression des doublons.\n",
    "3. Une sauvegarde en local des offres sont stockées dans un fichier (**CSV**).\n",
    "4. Une sauvegarde en local des offres sont stockées dans un fichier (**Parquet**).\n",
    "5. Une sauvegarde dans une base de données **PostgreSQL** est également effectuée en local."
   ]
  },
  {
   "cell_type": "markdown",
   "id": "d6874620-7676-4138-9b30-0ac53198d8f1",
   "metadata": {},
   "source": [
    "Les URL (FRANCE TRAVAIL) utiles sont :\n",
    "- https://francetravail.io/data/api/offres-emploi\n",
    "- https://francetravail.io/data/api/offres-emploi/documentation#/"
   ]
  },
  {
   "cell_type": "markdown",
   "id": "6736e6c8-5d60-47e3-8eb8-cbf900de62c1",
   "metadata": {},
   "source": [
    "Les URL (ADZUNA) utiles sont :\n",
    "- https://developer.adzuna.com/overview\n",
    "- https://developer.adzuna.com/docs/search\n",
    "- https://developer.adzuna.com/activedocs#!/adzuna/search\n",
    "- https://developer.adzuna.com/overview\n",
    "- https://www.adzuna.fr/details/5376850320?utm_medium=api&utm_source=6d1ef246"
   ]
  },
  {
   "cell_type": "markdown",
   "id": "6a77453b-9814-4567-97aa-7f680bfdfe9b",
   "metadata": {},
   "source": [
    "## Imports"
   ]
  },
  {
   "cell_type": "code",
   "execution_count": 122,
   "id": "59e94172-c17e-4a12-9519-d1b26cd600df",
   "metadata": {},
   "outputs": [],
   "source": [
    "import http.client\n",
    "import requests\n",
    "import json\n",
    "import pandas as pd\n",
    "import os\n",
    "from datetime import datetime\n",
    "import hashlib\n",
    "from sqlalchemy import create_engine, text"
   ]
  },
  {
   "cell_type": "markdown",
   "id": "742dd34f-6c24-4f94-b985-40336f97d531",
   "metadata": {},
   "source": [
    "## Procédure"
   ]
  },
  {
   "cell_type": "markdown",
   "id": "6d771d39-0166-45aa-abda-90d58d82f440",
   "metadata": {},
   "source": [
    "### Configuration"
   ]
  },
  {
   "cell_type": "code",
   "execution_count": 123,
   "id": "17e18cf1-1961-4200-9bb9-497ce803db59",
   "metadata": {},
   "outputs": [],
   "source": [
    "##################  VARIABLES  ##################\n",
    "# France Travail\n",
    "FT_CLIENT_ID = os.environ.get(\"FT_CLIENT_ID\")\n",
    "FT_CLIENT_SECRET = os.environ.get(\"FT_CLIENT_SECRET\")\n",
    "FT_SCOPE = os.environ.get(\"FT_SCOPE\")\n",
    "\n",
    "# Adzuna\n",
    "ADZUNA_CLIENT_ID = os.environ.get(\"ADZUNA_CLIENT_ID\")\n",
    "ADZUNA_CLIENT_SECRET = os.environ.get(\"ADZUNA_CLIENT_SECRET\")\n",
    "\n",
    "# Param Database PostgreSQL\n",
    "DB_NAME = os.environ.get(\"DB_NAME\", \"jobsdb\")\n",
    "DB_USER = os.environ.get(\"DB_USER\",\"jobsuser\")\n",
    "DB_PASS = os.environ.get(\"DB_PASS\", \"jobspass\")\n",
    "DB_HOST = os.environ.get(\"DB_HOST\", \"localhost\")\n",
    "DB_PORT = os.environ.get(\"DB_PORT\",\"5432\")"
   ]
  },
  {
   "cell_type": "markdown",
   "id": "b631ac5b-b706-486a-bea2-e47ef6a4f9a4",
   "metadata": {},
   "source": [
    "### Paramètres de recherche"
   ]
  },
  {
   "cell_type": "code",
   "execution_count": 124,
   "id": "8c47f4fc-a8ce-482c-ae6d-250061c5682d",
   "metadata": {},
   "outputs": [],
   "source": [
    "# ---------------------------\n",
    "# PARAMETRES DE RECHERCHE\n",
    "# ---------------------------\n",
    "\n",
    "# Paramètres de recherche\n",
    "JOB_QUERY = \"data analyst\"\n",
    "COMMUNE = \"78300\"\n",
    "DISTANCE = 100000\n",
    "\n",
    "# Nombre d'annonces par page requise\n",
    "BLOC_PAGINATION = 50\n",
    "\n",
    "# Nombre de pages max\n",
    "MAX_PAGES = 20   # Limiter le nombre de pages récupérées"
   ]
  },
  {
   "cell_type": "markdown",
   "id": "1f8c2baf-0c81-4879-9cbb-7d3cad0f33a0",
   "metadata": {},
   "source": [
    "### Paramètres de sauvegarde"
   ]
  },
  {
   "cell_type": "code",
   "execution_count": 125,
   "id": "13daef8d-56fc-4538-994e-cecd5e78e67e",
   "metadata": {},
   "outputs": [],
   "source": [
    "# ---------------------------\n",
    "# PARAMETRES DE SAUVEGARDE\n",
    "# ---------------------------\n",
    "# Répertoires\n",
    "CSV_DIR = \"../data/csv\"\n",
    "PARQUET_DIR = \"../data/parquet\""
   ]
  },
  {
   "cell_type": "markdown",
   "id": "59b50db3-037e-4050-b095-393fd8ca5aa1",
   "metadata": {},
   "source": [
    "### Authentification France Travail"
   ]
  },
  {
   "cell_type": "code",
   "execution_count": 126,
   "id": "5eb9b1d6-25f8-496c-8422-ba1185aee138",
   "metadata": {},
   "outputs": [],
   "source": [
    "# ---------------------------\n",
    "# AUTH FRANCE TRAVAIL\n",
    "# ---------------------------\n",
    "def get_ft_token():\n",
    "    url = \"https://entreprise.pole-emploi.fr/connexion/oauth2/access_token?realm=/partenaire\"\n",
    "    data = {\n",
    "        \"grant_type\": \"client_credentials\",\n",
    "        \"client_id\": FT_CLIENT_ID,\n",
    "        \"client_secret\": FT_CLIENT_SECRET,\n",
    "        \"scope\": FT_SCOPE,\n",
    "    }\n",
    "    r = requests.post(url, data=data)\n",
    "    r.raise_for_status()\n",
    "    return r.json()[\"access_token\"]"
   ]
  },
  {
   "cell_type": "markdown",
   "id": "2d1ec349-fdb2-4e83-9f7f-da83e1e12a31",
   "metadata": {},
   "source": [
    "### Lancement requête API France Travail"
   ]
  },
  {
   "cell_type": "code",
   "execution_count": 127,
   "id": "e82e7838-3f2b-4058-95fe-465efefdbc5c",
   "metadata": {},
   "outputs": [],
   "source": [
    "# ---------------------------\n",
    "# API CALL FRANCE TRAVAIL\n",
    "# ---------------------------\n",
    "def fetch_france_travail_jobs(token, max_pages=MAX_PAGES):\n",
    "    headers = {\"Authorization\": f\"Bearer {token}\"}\n",
    "    all_jobs = []\n",
    "    b_stop_criteria = False\n",
    "    \n",
    "    for page in range(1, max_pages + 1):\n",
    "        if b_stop_criteria == False:    \n",
    "            url = f\"https://api.francetravail.io/partenaire/offresdemploi/v2/offres/search\"\n",
    "            params = {\n",
    "                \"motsCles\": JOB_QUERY,\n",
    "                \"commune\": COMMUNE,\n",
    "                \"distance\" : DISTANCE,\n",
    "                \"range\": f\"{(page-1)*BLOC_PAGINATION}-{page*BLOC_PAGINATION-1}\"  # pagination par blocs de 50\n",
    "            }\n",
    "            r = requests.get(url, headers=headers, params=params)\n",
    "            r.raise_for_status()\n",
    "            data = r.json()\n",
    "            offres = data.get(\"resultats\", [])\n",
    "                \n",
    "            for o in offres:\n",
    "                all_jobs.append({\n",
    "                    \"Source\": \"France Travail\",\n",
    "                    \"id\":o.get(\"id\"),    \n",
    "                    \"Titre\": o.get(\"intitule\"),\n",
    "                    \"Description\": o.get(\"description\"),\n",
    "                    \"Entreprise\": o.get(\"entreprise\", {}).get(\"nom\"),\n",
    "                    \"Lieu\": o.get(\"lieuTravail\", {}).get(\"libelle\"),\n",
    "                    \"Latitude\": o.get(\"lieuTravail\", {}).get(\"latitude\"),\n",
    "                    \"Longitude\": o.get(\"lieuTravail\", {}).get(\"longitude\"),\n",
    "                    \"type_Contrat_Libelle\": o.get(\"typeContratLibelle\"),\n",
    "                    \"Date_publication\": o.get(\"dateCreation\"),\n",
    "                    \"URL\": o.get(\"origineOffre\").get(\"urlOrigine\") if o.get(\"origineOffre\") is not None else \"None\",\n",
    "                    \"Secteur_activites\": o.get(\"secteurActiviteLibelle\"),\n",
    "                })\n",
    "            # print(len(offres))\n",
    "\n",
    "            # Si le nombre d'offres est inférieur au nombre max d'offre par pages, c'est un signe qu'il n'y a plus d'offres à extraire après la page actuelle.\n",
    "            if len(offres) < BLOC_PAGINATION:\n",
    "                b_stop_criteria = True\n",
    "            \n",
    "    return all_jobs"
   ]
  },
  {
   "cell_type": "markdown",
   "id": "c384c3db-adb2-4c05-96c2-5f75fd670fd9",
   "metadata": {},
   "source": [
    "### Lancement de requête Adzuna"
   ]
  },
  {
   "cell_type": "code",
   "execution_count": 128,
   "id": "86633fe9-b12a-4e55-9a0a-e63ccba9d994",
   "metadata": {},
   "outputs": [],
   "source": [
    "# ---------------------------\n",
    "# API CALL ADZUNA\n",
    "# ---------------------------\n",
    "def fetch_adzuna_jobs(max_pages=MAX_PAGES):\n",
    "    headers = {\"Accept\": \"application/json\"}\n",
    "    all_jobs = []\n",
    "    b_stop_criteria = False\n",
    "    \n",
    "    for page in range(1, max_pages + 1):\n",
    "        if b_stop_criteria == False:    \n",
    "            url = f\"https://api.adzuna.com/v1/api/jobs/fr/search/{page}\"\n",
    "            params = {\n",
    "                \"app_id\" : ADZUNA_CLIENT_ID,\n",
    "                \"app_key\" : ADZUNA_CLIENT_SECRET,\n",
    "                \"title_only\": JOB_QUERY,\n",
    "                \"where\": COMMUNE,\n",
    "                \"results_per_page\" : BLOC_PAGINATION,\n",
    "                \"distance\" : DISTANCE\n",
    "            }\n",
    "            r = requests.get(url,params=params)\n",
    "            r.raise_for_status()\n",
    "            data = r.json()\n",
    "            offres = data.get(\"results\")\n",
    "                \n",
    "            # print(len(offres))\n",
    "\n",
    "            for o in offres:\n",
    "                all_jobs.append({\n",
    "                    \"Source\": \"Adzuna\",\n",
    "                    \"id\" : o.get(\"id\"),\n",
    "                    \"Titre\" : o.get(\"title\"),\n",
    "                    \"Description\" : o.get(\"description\"),\n",
    "                    \"Entreprise\": o.get(\"company\").get(\"display_name\") if o.get(\"company\") is not None else \"None\",\n",
    "                    \"Lieu\" : o.get(\"location\").get(\"display_name\") if o.get(\"location\") is not None else \"None\",  \n",
    "                    \"Latitude\" : o.get(\"latitude\"),\n",
    "                    \"Longitude\" : o.get(\"longitude\"),\n",
    "                    \"type_Contrat_Libelle\" : o.get(\"contract_type\"),                    \n",
    "                    \"Date_publication\" : o.get(\"created\"),\n",
    "                    \"URL\" : o.get(\"redirect_url\"),\n",
    "                    \"Secteur_activites\" : o.get(\"category\").get(\"label\") if o.get(\"category\") is not None else \"None\",\n",
    "                })\n",
    "                \n",
    "            # Si le nombre d'offres est inférieur au nombre max d'offre par pages, c'est un signe qu'il n'y a plus d'offres à extraire après la page actuelle.\n",
    "            if len(offres) < BLOC_PAGINATION:\n",
    "                b_stop_criteria = True\n",
    "            \n",
    "    return all_jobs"
   ]
  },
  {
   "cell_type": "markdown",
   "id": "d6429abb-111d-4a7a-a1bf-9ad698540ffd",
   "metadata": {},
   "source": [
    "### Déduplication"
   ]
  },
  {
   "cell_type": "code",
   "execution_count": 129,
   "id": "98da7cdb-9465-4684-957e-041bfe9c26a5",
   "metadata": {},
   "outputs": [],
   "source": [
    "# ---------------------------\n",
    "# DÉDUPLICATION\n",
    "# ---------------------------\n",
    "def deduplicate(jobs):\n",
    "    seen = set()\n",
    "    deduped = []\n",
    "    for job in jobs:\n",
    "        key_str = f\"{job['Titre']}_{job['Entreprise']}_{job['Latitude']}_{job['Longitude']}_{job['Date_publication']}\"\n",
    "        key = hashlib.md5(key_str.encode()).hexdigest()\n",
    "        if key not in seen:\n",
    "            seen.add(key)\n",
    "            deduped.append(job)\n",
    "    return deduped"
   ]
  },
  {
   "cell_type": "markdown",
   "id": "cb94663b-d5f9-467c-98c1-0b7cd1c26705",
   "metadata": {},
   "source": [
    "### Initialisation database"
   ]
  },
  {
   "cell_type": "code",
   "execution_count": 130,
   "id": "ad547c1c-d524-4cad-8bbf-67afaafddb35",
   "metadata": {},
   "outputs": [],
   "source": [
    "# --- Initialisation DB ---\n",
    "# SUPPRESSION DE Date_creation TIMESTAMP\n",
    "def init_db(engine):\n",
    "    with engine.begin() as conn:\n",
    "        conn.execute(text(\"\"\"\n",
    "        CREATE TABLE IF NOT EXISTS offres (\n",
    "            id TEXT PRIMARY KEY,\n",
    "            Source TEXT,\n",
    "            Titre TEXT,\n",
    "            Description TEXT,\n",
    "            Entreprise TEXT,\n",
    "            Lieu TEXT,\n",
    "            Latitude FLOAT(4),\n",
    "            Longitude FLOAT(4),\n",
    "            type_Contrat_Libelle TEXT,\n",
    "            Date_publication DATE,\n",
    "            url TEXT,\n",
    "            Secteur_activites TEXT,\n",
    "            inserted_at TIMESTAMP DEFAULT CURRENT_TIMESTAMP\n",
    "        )\n",
    "        \"\"\"))\n"
   ]
  },
  {
   "cell_type": "markdown",
   "id": "eec24a33-1dd6-4d65-9d05-ad203954dbc0",
   "metadata": {},
   "source": [
    "### Sauvegarde en base PostgreSQL"
   ]
  },
  {
   "cell_type": "code",
   "execution_count": 131,
   "id": "77e3c4fc-d709-4a7e-bfb6-a32651541e7d",
   "metadata": {},
   "outputs": [],
   "source": [
    "# --- Sauvegarde PostgreSQL ---\n",
    "def save_to_postgres(df, engine):\n",
    "    if df.empty:\n",
    "        return\n",
    "    with engine.begin() as conn:\n",
    "        for _, row in df.iterrows():\n",
    "            conn.execute(text(\"\"\"\n",
    "            INSERT INTO offres (id, Source, Titre, Description, Entreprise, Lieu, Latitude, Longitude, type_Contrat_Libelle, Date_publication, URL, Secteur_activites)\n",
    "            VALUES (:id, :Source, :Titre, :Description, :Entreprise, :Lieu, :Latitude, :Longitude, :type_Contrat_Libelle, :Date_publication, :URL, :Secteur_activites)\n",
    "             ON CONFLICT (id) DO NOTHING\n",
    "            \"\"\"), row.to_dict())"
   ]
  },
  {
   "cell_type": "markdown",
   "id": "fd75112a-913c-4cc2-bdfd-f5a320ac2e9d",
   "metadata": {},
   "source": [
    "### Sauvegarde CSV"
   ]
  },
  {
   "cell_type": "code",
   "execution_count": 132,
   "id": "75d0bd1a-552d-4f1a-a5d5-6c71331c54cd",
   "metadata": {},
   "outputs": [],
   "source": [
    "# --- Sauvegarde Parquet ---\n",
    "def save_to_csv(df):\n",
    "    if df.empty:\n",
    "        return\n",
    "    os.makedirs(CSV_DIR, exist_ok=True)\n",
    "    today = datetime.now().strftime(\"%Y-%m-%d\")\n",
    "    path_csv = os.path.join(CSV_DIR, f\"{today}_offres.csv\")\n",
    "    df.to_csv(path_csv, index=False,encoding=\"utf-8\")\n",
    "    print(f\"✅ Sauvegardé dans {path_csv}\")"
   ]
  },
  {
   "cell_type": "markdown",
   "id": "5e4c69b5-e661-49b9-be53-abe6835a3a74",
   "metadata": {},
   "source": [
    "### Sauvegarde Parquet"
   ]
  },
  {
   "cell_type": "code",
   "execution_count": 133,
   "id": "0b972c51-3307-49aa-a409-21b662763b9f",
   "metadata": {},
   "outputs": [],
   "source": [
    "# --- Sauvegarde Parquet ---\n",
    "def save_to_parquet(df):\n",
    "    if df.empty:\n",
    "        return\n",
    "    os.makedirs(PARQUET_DIR, exist_ok=True)\n",
    "    today = datetime.now().strftime(\"%Y-%m-%d\")\n",
    "    path_parquet = os.path.join(PARQUET_DIR, f\"{today}_offres.parquet\")\n",
    "    df.to_parquet(path_parquet, index=False)\n",
    "    print(f\"✅ Sauvegardé dans {path_parquet}\")"
   ]
  },
  {
   "cell_type": "markdown",
   "id": "54cdda02-d6b6-40a2-bfac-934fc24cf646",
   "metadata": {},
   "source": [
    "### Pipeline principal"
   ]
  },
  {
   "cell_type": "code",
   "execution_count": 134,
   "id": "fb6f8148-0086-47ea-b620-5d32c006c054",
   "metadata": {},
   "outputs": [],
   "source": [
    "\n",
    "def run_pipeline():\n",
    "    print(\"Authentification France Travail...\")\n",
    "    token = get_ft_token()\n",
    "\n",
    "    print(\"Récupération des offres France Travail...\")\n",
    "    ft_jobs = fetch_france_travail_jobs(token)\n",
    "\n",
    "    print(\"Récupération des offres Adzuna...\")\n",
    "    adzuna_jobs = fetch_adzuna_jobs()\n",
    "\n",
    "    print(\"Fusion et déduplication...\")\n",
    "    all_jobs = ft_jobs + adzuna_jobs\n",
    "\n",
    "    if not all_jobs:\n",
    "        print(\"⚠️ Aucune offre trouvée.\")\n",
    "        return\n",
    "\n",
    "    print(f\"Nombre d'offres d'emploi avant déduplication : {len(all_jobs)}\")\n",
    "    jobs_clean = deduplicate(all_jobs)\n",
    "    print(f\"Nombre d'offres d'emploi après déduplication : {len(jobs_clean)}\")\n",
    "\n",
    "    print(\"Affichage Extract offres France Travail...\")\n",
    "    df = pd.DataFrame(jobs_clean)\n",
    "\n",
    "    # Export vers CSV\n",
    "    print(\"💾 Sauvegarde en CSV...\")\n",
    "    save_to_csv(df)\n",
    "\n",
    "    # Export vers Parquet\n",
    "    print(\"💾 Sauvegarde en Parquet...\")\n",
    "    save_to_parquet(df)\n",
    "    \n",
    "    print(f\"{len(jobs_clean)} offres uniques exportées dans {CSV_DIR} et {PARQUET_DIR} ✅\")\n",
    "\n",
    "    # Connexion DB\n",
    "    print(\"Connexion à la base PostgreSQL...\")\n",
    "    engine = create_engine(f\"postgresql+psycopg2://{DB_USER}:{DB_PASS}@{DB_HOST}:{DB_PORT}/{DB_NAME}\")\n",
    "\n",
    "    # Initier la bdd\n",
    "    init_db(engine)\n",
    "\n",
    "    print(\"💾 Sauvegarde en base PostgreSQL...\")\n",
    "    save_to_postgres(df, engine)\n",
    "    print(\"💾 Sauvegarde en base PostgreSQL TERMINEE !!!...\")\n",
    "\n",
    "    # Affichage extract offres\n",
    "    display(df.shape)\n",
    "    display(df.head(3))"
   ]
  },
  {
   "cell_type": "code",
   "execution_count": 135,
   "id": "2de560b5-c04e-4118-9662-7069e1da4bf8",
   "metadata": {},
   "outputs": [],
   "source": [
    "# # Chargement depuis CSV\n",
    "# today = datetime.now().strftime(\"%Y-%m-%d\")\n",
    "# path_parquet = os.path.join(PARQUET_DIR, f\"{today}_offres.parquet\")\n",
    "# df = pd.read_parquet(path_parquet)\n",
    "# df.head()"
   ]
  },
  {
   "cell_type": "markdown",
   "id": "c859727e-da41-42a1-9772-fa2708d9d558",
   "metadata": {},
   "source": [
    "### Procédure principale"
   ]
  },
  {
   "cell_type": "code",
   "execution_count": 136,
   "id": "ff03fb25-913a-46ea-a784-b7f5f54e9f61",
   "metadata": {},
   "outputs": [
    {
     "name": "stdout",
     "output_type": "stream",
     "text": [
      "Authentification France Travail...\n",
      "Récupération des offres France Travail...\n",
      "Récupération des offres Adzuna...\n",
      "Fusion et déduplication...\n",
      "Nombre d'offres d'emploi avant déduplication : 1183\n",
      "Nombre d'offres d'emploi après déduplication : 1181\n",
      "Affichage Extract offres France Travail...\n",
      "💾 Sauvegarde en CSV...\n",
      "✅ Sauvegardé dans ../data/csv/2025-09-17_offres.csv\n",
      "💾 Sauvegarde en Parquet...\n",
      "✅ Sauvegardé dans ../data/parquet/2025-09-17_offres.parquet\n",
      "1181 offres uniques exportées dans ../data/csv et ../data/parquet ✅\n",
      "Connexion à la base PostgreSQL...\n",
      "💾 Sauvegarde en base PostgreSQL...\n",
      "💾 Sauvegarde en base PostgreSQL TERMINEE !!!...\n"
     ]
    },
    {
     "data": {
      "text/plain": [
       "(1181, 12)"
      ]
     },
     "metadata": {},
     "output_type": "display_data"
    },
    {
     "data": {
      "text/html": [
       "<div>\n",
       "<style scoped>\n",
       "    .dataframe tbody tr th:only-of-type {\n",
       "        vertical-align: middle;\n",
       "    }\n",
       "\n",
       "    .dataframe tbody tr th {\n",
       "        vertical-align: top;\n",
       "    }\n",
       "\n",
       "    .dataframe thead th {\n",
       "        text-align: right;\n",
       "    }\n",
       "</style>\n",
       "<table border=\"1\" class=\"dataframe\">\n",
       "  <thead>\n",
       "    <tr style=\"text-align: right;\">\n",
       "      <th></th>\n",
       "      <th>Source</th>\n",
       "      <th>id</th>\n",
       "      <th>Titre</th>\n",
       "      <th>Description</th>\n",
       "      <th>Entreprise</th>\n",
       "      <th>Lieu</th>\n",
       "      <th>Latitude</th>\n",
       "      <th>Longitude</th>\n",
       "      <th>type_Contrat_Libelle</th>\n",
       "      <th>Date_publication</th>\n",
       "      <th>URL</th>\n",
       "      <th>Secteur_activites</th>\n",
       "    </tr>\n",
       "  </thead>\n",
       "  <tbody>\n",
       "    <tr>\n",
       "      <th>0</th>\n",
       "      <td>France Travail</td>\n",
       "      <td>197XHCS</td>\n",
       "      <td>DATA ANALYST/SCIENTIST(H/F)</td>\n",
       "      <td>En tant que Data Analyst - Data Scientist, vou...</td>\n",
       "      <td>INFOBAM</td>\n",
       "      <td>972 - LE LAMENTIN</td>\n",
       "      <td>14.615411</td>\n",
       "      <td>-61.003361</td>\n",
       "      <td>CDI</td>\n",
       "      <td>2025-09-16T18:29:39.856Z</td>\n",
       "      <td>https://candidat.francetravail.fr/offres/reche...</td>\n",
       "      <td>Gestion d'installations informatiques</td>\n",
       "    </tr>\n",
       "    <tr>\n",
       "      <th>1</th>\n",
       "      <td>France Travail</td>\n",
       "      <td>197TNXM</td>\n",
       "      <td>Data Analyst ETL / SI Junior - H/F (H/F)</td>\n",
       "      <td>Empreinte est une société Française qui crée, ...</td>\n",
       "      <td>EMPREINTE SA</td>\n",
       "      <td>29 - BREST</td>\n",
       "      <td>48.414003</td>\n",
       "      <td>-4.491985</td>\n",
       "      <td>CDI</td>\n",
       "      <td>2025-09-12T17:46:57.887Z</td>\n",
       "      <td>https://candidat.francetravail.fr/offres/reche...</td>\n",
       "      <td>Fabrication de vêtements de dessous</td>\n",
       "    </tr>\n",
       "    <tr>\n",
       "      <th>2</th>\n",
       "      <td>France Travail</td>\n",
       "      <td>197NKZD</td>\n",
       "      <td>Consultant Data confirmé - Data Analyst H/F</td>\n",
       "      <td>Nous recherchons un(e) Consultant(e) Data conf...</td>\n",
       "      <td>EFFIDIC</td>\n",
       "      <td>49 - TRELAZE</td>\n",
       "      <td>47.445931</td>\n",
       "      <td>-0.466974</td>\n",
       "      <td>CDI</td>\n",
       "      <td>2025-09-09T09:24:40.097Z</td>\n",
       "      <td>https://candidat.francetravail.fr/offres/reche...</td>\n",
       "      <td>Conseil en systèmes et logiciels informatiques</td>\n",
       "    </tr>\n",
       "  </tbody>\n",
       "</table>\n",
       "</div>"
      ],
      "text/plain": [
       "           Source       id                                        Titre  \\\n",
       "0  France Travail  197XHCS                  DATA ANALYST/SCIENTIST(H/F)   \n",
       "1  France Travail  197TNXM     Data Analyst ETL / SI Junior - H/F (H/F)   \n",
       "2  France Travail  197NKZD  Consultant Data confirmé - Data Analyst H/F   \n",
       "\n",
       "                                         Description    Entreprise  \\\n",
       "0  En tant que Data Analyst - Data Scientist, vou...       INFOBAM   \n",
       "1  Empreinte est une société Française qui crée, ...  EMPREINTE SA   \n",
       "2  Nous recherchons un(e) Consultant(e) Data conf...       EFFIDIC   \n",
       "\n",
       "                Lieu   Latitude  Longitude type_Contrat_Libelle  \\\n",
       "0  972 - LE LAMENTIN  14.615411 -61.003361                  CDI   \n",
       "1         29 - BREST  48.414003  -4.491985                  CDI   \n",
       "2       49 - TRELAZE  47.445931  -0.466974                  CDI   \n",
       "\n",
       "           Date_publication  \\\n",
       "0  2025-09-16T18:29:39.856Z   \n",
       "1  2025-09-12T17:46:57.887Z   \n",
       "2  2025-09-09T09:24:40.097Z   \n",
       "\n",
       "                                                 URL  \\\n",
       "0  https://candidat.francetravail.fr/offres/reche...   \n",
       "1  https://candidat.francetravail.fr/offres/reche...   \n",
       "2  https://candidat.francetravail.fr/offres/reche...   \n",
       "\n",
       "                                Secteur_activites  \n",
       "0           Gestion d'installations informatiques  \n",
       "1             Fabrication de vêtements de dessous  \n",
       "2  Conseil en systèmes et logiciels informatiques  "
      ]
     },
     "metadata": {},
     "output_type": "display_data"
    }
   ],
   "source": [
    "# ---------------------------\n",
    "# MAIN\n",
    "# ---------------------------\n",
    "if __name__ == \"__main__\":\n",
    "    run_pipeline()"
   ]
  }
 ],
 "metadata": {
  "kernelspec": {
   "display_name": "Python 3 (ipykernel)",
   "language": "python",
   "name": "python3"
  },
  "language_info": {
   "codemirror_mode": {
    "name": "ipython",
    "version": 3
   },
   "file_extension": ".py",
   "mimetype": "text/x-python",
   "name": "python",
   "nbconvert_exporter": "python",
   "pygments_lexer": "ipython3",
   "version": "3.10.6"
  }
 },
 "nbformat": 4,
 "nbformat_minor": 5
}
