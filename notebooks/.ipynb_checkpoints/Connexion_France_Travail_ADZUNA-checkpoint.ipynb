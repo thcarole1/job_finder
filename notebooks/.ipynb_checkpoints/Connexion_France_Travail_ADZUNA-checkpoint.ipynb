{
 "cells": [
  {
   "cell_type": "markdown",
   "id": "598d621d-ffac-4fe6-8e18-07c055e9d366",
   "metadata": {},
   "source": [
    "# Connexion_France_Travail_ADZUNA.ipynb"
   ]
  },
  {
   "cell_type": "markdown",
   "id": "0a6e368b-be9e-4195-b2ab-5f3eebcdcc12",
   "metadata": {},
   "source": [
    "Ce script a pour objectif :\n",
    "- d'extraire les offres d'emploi mises à disposition par :\n",
    "  <br> _ l'API de **France Travail**\n",
    "  <br>_ de l'API **ADZUNA**\n",
    "- les stocker dans :\n",
    "  <br> _ un fichier (**CSV**) en local\n",
    "  <br> _ un fichier (**Parquet**) en local\n",
    "  <br> _ dans une **BDD PostgreSQL** en local.\n",
    "\n",
    "**/!\\ Ajouts !** : \n",
    "- Modification du schéma de la table cible de la base de données : ajout du champ 'embedding'\n",
    "- Enregistrement des embeddings de chaque offre sur la base du champ 'description' directement dans la base de données.\n",
    "- Calcul de la similarité (en SQL) entre l'embedding d'un texte de référence et l'embedding de chaque offre présente dans la bdd.\n",
    "- Amélioration du logging."
   ]
  },
  {
   "cell_type": "markdown",
   "id": "7129f84d-2d01-44eb-ba17-25d4cf673d3c",
   "metadata": {},
   "source": [
    "Comment ?\n",
    "1. Sur la base de critères spécifiques (mots clés, localisation, etc...), \n",
    "    - lancement d'une requête pour obtenir les offres d'emploi correspondantes via l'API France Travail\n",
    "    - lancement d'une requête pour obtenir les offres d'emploi correspondantes via l'API Adzuna\n",
    "2. Une fois les offres trouvées, vérification et suppression des doublons.\n",
    "3. Une sauvegarde en local des offres sont stockées dans un fichier (**CSV**).\n",
    "4. Une sauvegarde en local des offres sont stockées dans un fichier (**Parquet**).\n",
    "5. Une sauvegarde dans une base de données **PostgreSQL** est également effectuée en local."
   ]
  },
  {
   "cell_type": "markdown",
   "id": "d6874620-7676-4138-9b30-0ac53198d8f1",
   "metadata": {},
   "source": [
    "Les URL (FRANCE TRAVAIL) utiles sont :\n",
    "- https://francetravail.io/data/api/offres-emploi\n",
    "- https://francetravail.io/data/api/offres-emploi/documentation#/"
   ]
  },
  {
   "cell_type": "markdown",
   "id": "6736e6c8-5d60-47e3-8eb8-cbf900de62c1",
   "metadata": {},
   "source": [
    "Les URL (ADZUNA) utiles sont :\n",
    "- https://developer.adzuna.com/overview\n",
    "- https://developer.adzuna.com/docs/search\n",
    "- https://developer.adzuna.com/activedocs#!/adzuna/search\n",
    "- https://developer.adzuna.com/overview\n",
    "- https://www.adzuna.fr/details/5376850320?utm_medium=api&utm_source=6d1ef246"
   ]
  },
  {
   "cell_type": "markdown",
   "id": "6a77453b-9814-4567-97aa-7f680bfdfe9b",
   "metadata": {},
   "source": [
    "## Imports"
   ]
  },
  {
   "cell_type": "code",
   "execution_count": 335,
   "id": "59e94172-c17e-4a12-9519-d1b26cd600df",
   "metadata": {},
   "outputs": [],
   "source": [
    "import os\n",
    "import requests\n",
    "import pandas as pd\n",
    "from datetime import datetime\n",
    "from sqlalchemy import create_engine, Table, MetaData, text\n",
    "from sqlalchemy.dialects.postgresql import insert as pg_insert\n",
    "from sqlalchemy.exc import SQLAlchemyError\n",
    "import spacy\n",
    "from sentence_transformers import SentenceTransformer, util\n",
    "import logging\n",
    "import time\n",
    "import numpy as np\n",
    "import http.client\n",
    "import json\n",
    "import hashlib"
   ]
  },
  {
   "cell_type": "markdown",
   "id": "742dd34f-6c24-4f94-b985-40336f97d531",
   "metadata": {},
   "source": [
    "## Procédure"
   ]
  },
  {
   "cell_type": "markdown",
   "id": "6d771d39-0166-45aa-abda-90d58d82f440",
   "metadata": {},
   "source": [
    "### Configuration"
   ]
  },
  {
   "cell_type": "code",
   "execution_count": 336,
   "id": "17e18cf1-1961-4200-9bb9-497ce803db59",
   "metadata": {},
   "outputs": [],
   "source": [
    "##################  VARIABLES  ##################\n",
    "# France Travail\n",
    "FT_CLIENT_ID = os.environ.get(\"FT_CLIENT_ID\")\n",
    "FT_CLIENT_SECRET = os.environ.get(\"FT_CLIENT_SECRET\")\n",
    "FT_SCOPE = os.environ.get(\"FT_SCOPE\")\n",
    "\n",
    "# Adzuna\n",
    "ADZUNA_CLIENT_ID = os.environ.get(\"ADZUNA_CLIENT_ID\")\n",
    "ADZUNA_CLIENT_SECRET = os.environ.get(\"ADZUNA_CLIENT_SECRET\")\n",
    "\n",
    "# Param Database PostgreSQL\n",
    "DB_NAME = os.environ.get(\"DB_NAME\", \"jobsdb\")\n",
    "DB_USER = os.environ.get(\"DB_USER\",\"jobsuser\")\n",
    "DB_PASS = os.environ.get(\"DB_PASS\", \"jobspass\")\n",
    "DB_HOST = os.environ.get(\"DB_HOST\", \"localhost\")\n",
    "DB_PORT = os.environ.get(\"DB_PORT\",\"5432\")\n",
    "\n",
    "# Nom table\n",
    "DB_TABLE_NAME = \"offres\""
   ]
  },
  {
   "cell_type": "markdown",
   "id": "c16f0bec-9475-4dd1-92d6-f6a21a487f7e",
   "metadata": {},
   "source": [
    "### Configuration Logging"
   ]
  },
  {
   "cell_type": "code",
   "execution_count": 337,
   "id": "aa3f970c-1849-454a-8191-ebe47ac0008a",
   "metadata": {},
   "outputs": [],
   "source": [
    "# Logging\n",
    "LOG_DIR = \"logs\"\n",
    "os.makedirs(LOG_DIR, exist_ok=True)\n",
    "logging.basicConfig(\n",
    "    filename=os.path.join(LOG_DIR, f\"pipeline_{datetime.now().strftime('%Y-%m-%d')}.log\"),\n",
    "    level=logging.INFO,\n",
    "    format=\"%(asctime)s - %(levelname)s - %(message)s\"\n",
    ")"
   ]
  },
  {
   "cell_type": "markdown",
   "id": "4a7dbbdb-2ef2-494a-ad27-31bb79f36ba1",
   "metadata": {},
   "source": [
    "### NLP ET embeddings"
   ]
  },
  {
   "cell_type": "code",
   "execution_count": 338,
   "id": "6f627bbe-919e-48bf-917d-0f50965505a6",
   "metadata": {},
   "outputs": [],
   "source": [
    "# NLP & embeddings\n",
    "nlp = spacy.load(\"fr_core_news_sm\")\n",
    "model = SentenceTransformer('sentence-transformers/paraphrase-multilingual-MiniLM-L12-v2')"
   ]
  },
  {
   "cell_type": "markdown",
   "id": "2f3c6b29-9af0-4439-a594-b5527a2dee1d",
   "metadata": {},
   "source": [
    "### Texte de référence (CV)"
   ]
  },
  {
   "cell_type": "code",
   "execution_count": 339,
   "id": "18f34d4e-8de1-45c8-a307-edcd2505f6c9",
   "metadata": {},
   "outputs": [],
   "source": [
    "# Offre de référence\n",
    "reference_text = \"\"\"\n",
    "Data Analyst avec expertise Python, SQL, Power BI et analyse de données industrielles.\n",
    "\"\"\"\n",
    "reference_text_clean = \" \".join([token.lemma_ for token in nlp(reference_text.lower()) if not token.is_stop])"
   ]
  },
  {
   "cell_type": "markdown",
   "id": "b631ac5b-b706-486a-bea2-e47ef6a4f9a4",
   "metadata": {},
   "source": [
    "### Paramètres de recherche"
   ]
  },
  {
   "cell_type": "code",
   "execution_count": 340,
   "id": "8c47f4fc-a8ce-482c-ae6d-250061c5682d",
   "metadata": {},
   "outputs": [],
   "source": [
    "# ---------------------------\n",
    "# PARAMETRES DE RECHERCHE\n",
    "# ---------------------------\n",
    "\n",
    "# Paramètres de recherche\n",
    "JOB_QUERY = \"data analyst\"\n",
    "COMMUNE = \"78300\"\n",
    "DISTANCE = 100000\n",
    "\n",
    "# Nombre d'annonces par page requise\n",
    "BLOC_PAGINATION = 50\n",
    "\n",
    "# Nombre de pages max\n",
    "MAX_PAGES = 20   # Limiter le nombre de pages récupérées"
   ]
  },
  {
   "cell_type": "markdown",
   "id": "1f8c2baf-0c81-4879-9cbb-7d3cad0f33a0",
   "metadata": {},
   "source": [
    "### Paramètres de sauvegarde"
   ]
  },
  {
   "cell_type": "code",
   "execution_count": 341,
   "id": "13daef8d-56fc-4538-994e-cecd5e78e67e",
   "metadata": {},
   "outputs": [],
   "source": [
    "# ---------------------------\n",
    "# PARAMETRES DE SAUVEGARDE\n",
    "# ---------------------------\n",
    "# Répertoires\n",
    "CSV_DIR = \"../data/csv\"\n",
    "PARQUET_DIR = \"../data/parquet\""
   ]
  },
  {
   "cell_type": "markdown",
   "id": "59b50db3-037e-4050-b095-393fd8ca5aa1",
   "metadata": {},
   "source": [
    "### Authentification France Travail"
   ]
  },
  {
   "cell_type": "code",
   "execution_count": 342,
   "id": "af447536-bcf7-4def-8b46-a45c510ff850",
   "metadata": {},
   "outputs": [],
   "source": [
    "# ---------------------------\n",
    "# AUTH FRANCE TRAVAIL\n",
    "# ---------------------------\n",
    "def get_token(retries=3, wait=5):\n",
    "    url = \"https://entreprise.pole-emploi.fr/connexion/oauth2/access_token?realm=/partenaire\"\n",
    "    data = {\n",
    "        \"grant_type\": \"client_credentials\",\n",
    "        \"client_id\": FT_CLIENT_ID,\n",
    "        \"client_secret\": FT_CLIENT_SECRET,\n",
    "        \"scope\": FT_SCOPE,\n",
    "    }\n",
    "    for attempt in range(retries):\n",
    "        try:\n",
    "            r = requests.post(url, data=data)\n",
    "            r.raise_for_status()\n",
    "            return r.json()[\"access_token\"]\n",
    "        except requests.RequestException as e:\n",
    "            logging.warning(f\"Erreur OAuth attempt {attempt+1}: {e}\")\n",
    "            time.sleep(wait)\n",
    "    raise RuntimeError(\"Impossible d'obtenir un token OAuth après plusieurs essais.\")"
   ]
  },
  {
   "cell_type": "markdown",
   "id": "2d1ec349-fdb2-4e83-9f7f-da83e1e12a31",
   "metadata": {},
   "source": [
    "### Lancement requête API France Travail"
   ]
  },
  {
   "cell_type": "code",
   "execution_count": 343,
   "id": "e82e7838-3f2b-4058-95fe-465efefdbc5c",
   "metadata": {},
   "outputs": [],
   "source": [
    "# ---------------------------\n",
    "# API CALL FRANCE TRAVAIL\n",
    "# ---------------------------\n",
    "def fetch_france_travail_jobs(token, max_pages=MAX_PAGES):\n",
    "    headers = {\"Authorization\": f\"Bearer {token}\"}\n",
    "    try:        \n",
    "        all_jobs = []\n",
    "        b_stop_criteria = False\n",
    "        \n",
    "        for page in range(1, max_pages + 1):\n",
    "            if b_stop_criteria == False:    \n",
    "                url = f\"https://api.francetravail.io/partenaire/offresdemploi/v2/offres/search\"\n",
    "                params = {\n",
    "                    \"motsCles\": JOB_QUERY,\n",
    "                    \"commune\": COMMUNE,\n",
    "                    \"distance\" : DISTANCE,\n",
    "                    \"range\": f\"{(page-1)*BLOC_PAGINATION}-{page*BLOC_PAGINATION-1}\"  # pagination par blocs de 50\n",
    "                }\n",
    "                r = requests.get(url, headers=headers, params=params)\n",
    "                r.raise_for_status()\n",
    "                data = r.json()\n",
    "                offres = data.get(\"resultats\", [])\n",
    "                    \n",
    "                for o in offres:\n",
    "                    all_jobs.append({\n",
    "                        \"source\": \"France Travail\",\n",
    "                        \"id\":o.get(\"id\") if o.get(\"id\") is not None else \"None\",    \n",
    "                        \"titre\": o.get(\"intitule\") if o.get(\"intitule\") is not None else \"None\",                     \n",
    "                        \"description\": o.get(\"description\") if o.get(\"description\") is not None else \"None\", \n",
    "                        \"entreprise\": o.get(\"entreprise\", {}).get(\"nom\") if o.get(\"entreprise\", {}).get(\"nom\") is not None else \"None\", \n",
    "                        \"lieu\": o.get(\"lieuTravail\", {}).get(\"libelle\") if o.get(\"lieuTravail\", {}).get(\"libelle\") is not None else \"None\", \n",
    "                        \"latitude\": o.get(\"lieuTravail\", {}).get(\"latitude\") if o.get(\"lieuTravail\", {}) is not None else \"None\", \n",
    "                        \"longitude\": o.get(\"lieuTravail\", {}).get(\"longitude\") if o.get(\"lieuTravail\", {}) is not None else \"None\", \n",
    "                        \"type_contrat_libelle\": o.get(\"typeContratLibelle\") if o.get(\"typeContratLibelle\") is not None else \"None\", \n",
    "                        \"date_publication\": o.get(\"dateCreation\") if o.get(\"dateCreation\") is not None else \"None\",    \n",
    "                        \"url\": o.get(\"origineOffre\").get(\"urlOrigine\") if o.get(\"origineOffre\") is not None else \"None\",\n",
    "                        \"secteur_activites\": o.get(\"secteurActiviteLibelle\") if o.get(\"dateCreation\") is not None else \"None\"\n",
    "                    })\n",
    "    \n",
    "                # Si le nombre d'offres est inférieur au nombre max d'offre par pages, c'est un signe qu'il n'y a plus d'offres à extraire après la page actuelle.\n",
    "                if len(offres) < BLOC_PAGINATION:\n",
    "                    b_stop_criteria = True\n",
    "                \n",
    "        return all_jobs\n",
    "    except requests.RequestException as e:\n",
    "        logging.error(f\"Erreur API France Travail: {e}\")\n",
    "        return []"
   ]
  },
  {
   "cell_type": "markdown",
   "id": "c384c3db-adb2-4c05-96c2-5f75fd670fd9",
   "metadata": {},
   "source": [
    "### Lancement de requête Adzuna"
   ]
  },
  {
   "cell_type": "code",
   "execution_count": 344,
   "id": "86633fe9-b12a-4e55-9a0a-e63ccba9d994",
   "metadata": {},
   "outputs": [],
   "source": [
    "# ---------------------------\n",
    "# API CALL ADZUNA\n",
    "# ---------------------------\n",
    "def fetch_adzuna_jobs(max_pages=MAX_PAGES):\n",
    "    headers = {\"Accept\": \"application/json\"}\n",
    "    try:        \n",
    "        all_jobs = []\n",
    "        b_stop_criteria = False\n",
    "        \n",
    "        for page in range(1, max_pages + 1):\n",
    "            if b_stop_criteria == False:    \n",
    "                url = f\"https://api.adzuna.com/v1/api/jobs/fr/search/{page}\"\n",
    "                params = {\n",
    "                    \"app_id\" : ADZUNA_CLIENT_ID,\n",
    "                    \"app_key\" : ADZUNA_CLIENT_SECRET,\n",
    "                    \"title_only\": JOB_QUERY,\n",
    "                    \"where\": COMMUNE,\n",
    "                    \"results_per_page\" : BLOC_PAGINATION,\n",
    "                    \"distance\" : DISTANCE\n",
    "                }\n",
    "                r = requests.get(url,params=params)\n",
    "                r.raise_for_status()\n",
    "                data = r.json()\n",
    "                offres = data.get(\"results\")\n",
    "    \n",
    "                for o in offres:\n",
    "                    all_jobs.append({\n",
    "                        \"source\": \"Adzuna\",\n",
    "                        \"id\" : o.get(\"id\") if o.get(\"id\") is not None else \"None\", \n",
    "                        \"titre\" : o.get(\"title\") if o.get(\"title\") is not None else \"None\", \n",
    "                        \"description\" : o.get(\"description\") if o.get(\"description\") is not None else \"None\", \n",
    "                        \"entreprise\": o.get(\"company\").get(\"display_name\") if o.get(\"company\") is not None else \"None\",\n",
    "                        \"lieu\" : o.get(\"location\").get(\"display_name\") if o.get(\"location\") is not None else \"None\",    \n",
    "                        \"latitude\" : o.get(\"latitude\") if o.get(\"latitude\") is not None else \"None\", \n",
    "                        \"longitude\" : o.get(\"longitude\") if o.get(\"longitude\") is not None else \"None\",\n",
    "                        \"type_contrat_libelle\" : o.get(\"contract_type\") if o.get(\"contract_type\") is not None else \"None\",                \n",
    "                        \"date_publication\" : o.get(\"created\") if o.get(\"created\") is not None else \"None\",  \n",
    "                        \"url\" : o.get(\"redirect_url\") if o.get(\"redirect_url\") is not None else \"None\",  \n",
    "                        \"secteur_activites\" : o.get(\"category\").get(\"label\") if o.get(\"category\") is not None else \"None\",\n",
    "                    })\n",
    "                    \n",
    "                # Si le nombre d'offres est inférieur au nombre max d'offre par pages, c'est un signe qu'il n'y a plus d'offres à extraire après la page actuelle.\n",
    "                if len(offres) < BLOC_PAGINATION:\n",
    "                    b_stop_criteria = True\n",
    "                \n",
    "        return all_jobs\n",
    "    except requests.RequestException as e:\n",
    "        logging.error(f\"Erreur API Adzuna: {e}\")\n",
    "        return []"
   ]
  },
  {
   "cell_type": "markdown",
   "id": "d6429abb-111d-4a7a-a1bf-9ad698540ffd",
   "metadata": {},
   "source": [
    "### Déduplication"
   ]
  },
  {
   "cell_type": "code",
   "execution_count": 345,
   "id": "98da7cdb-9465-4684-957e-041bfe9c26a5",
   "metadata": {},
   "outputs": [],
   "source": [
    "# ---------------------------\n",
    "# DÉDUPLICATION\n",
    "# ---------------------------\n",
    "def deduplicate(jobs):\n",
    "    seen = set()\n",
    "    deduped = []\n",
    "    for job in jobs:\n",
    "        key_str = f\"{job['titre']}_{job['entreprise']}_{job['latitude']}_{job['longitude']}_{job['date_publication']}\"\n",
    "        key = hashlib.md5(key_str.encode()).hexdigest()\n",
    "        if key not in seen:\n",
    "            seen.add(key)\n",
    "            deduped.append(job)\n",
    "    return deduped"
   ]
  },
  {
   "cell_type": "markdown",
   "id": "4f8b7935-0d6b-4bef-9c72-ec09ccc7d2ac",
   "metadata": {},
   "source": [
    "### Nettoyage de texte"
   ]
  },
  {
   "cell_type": "code",
   "execution_count": 346,
   "id": "d1434de4-10d9-4ba1-b4d1-1dee055bb332",
   "metadata": {},
   "outputs": [],
   "source": [
    "def clean_text(text):\n",
    "    if not text:\n",
    "        return \"\"\n",
    "    doc = nlp(text.lower())\n",
    "    return \" \".join([token.lemma_ for token in doc if not token.is_stop])"
   ]
  },
  {
   "cell_type": "markdown",
   "id": "e80e9db3-fa0a-4457-81df-f6bb52f2b2bc",
   "metadata": {},
   "source": [
    "### Calcul embeddings"
   ]
  },
  {
   "cell_type": "code",
   "execution_count": 347,
   "id": "f85ae768-d6d1-4cc5-be64-8363f54210ad",
   "metadata": {},
   "outputs": [],
   "source": [
    "def compute_embedding(text):\n",
    "    return model.encode([text], convert_to_numpy=True,show_progress_bar=False)[0].tolist()"
   ]
  },
  {
   "cell_type": "markdown",
   "id": "cb94663b-d5f9-467c-98c1-0b7cd1c26705",
   "metadata": {},
   "source": [
    "### Initialisation database"
   ]
  },
  {
   "cell_type": "code",
   "execution_count": 348,
   "id": "ad547c1c-d524-4cad-8bbf-67afaafddb35",
   "metadata": {},
   "outputs": [],
   "source": [
    "# --- Initialisation DB ---\n",
    "# SUPPRESSION DE Date_creation TIMESTAMP\n",
    "def init_db(engine):\n",
    "    with engine.begin() as conn:\n",
    "        \n",
    "        # Activer l'extension PGVector\n",
    "        conn.execute(text(\"CREATE EXTENSION IF NOT EXISTS vector;\"))\n",
    "\n",
    "        # Créer la table\n",
    "        conn.execute(text(\"\"\"\n",
    "        CREATE TABLE IF NOT EXISTS offres (\n",
    "            id TEXT PRIMARY KEY,\n",
    "            source TEXT,\n",
    "            titre TEXT,\n",
    "            description TEXT,\n",
    "            entreprise TEXT,\n",
    "            lieu TEXT,\n",
    "            latitude FLOAT(4),\n",
    "            longitude FLOAT(4),\n",
    "            type_contrat_libelle TEXT,\n",
    "            date_publication DATE,\n",
    "            url TEXT,\n",
    "            secteur_activites TEXT,\n",
    "            last_updated TIMESTAMP DEFAULT CURRENT_TIMESTAMP,\n",
    "            embedding vector(384)  -- dimension MiniLM\n",
    "        )\n",
    "        \"\"\"))\n"
   ]
  },
  {
   "cell_type": "markdown",
   "id": "eec24a33-1dd6-4d65-9d05-ad203954dbc0",
   "metadata": {},
   "source": [
    "### Sauvegarde en base PostgreSQL"
   ]
  },
  {
   "cell_type": "code",
   "execution_count": 349,
   "id": "e4f8714f-8ab5-43c6-8e03-98bce597c784",
   "metadata": {},
   "outputs": [],
   "source": [
    "def save_to_postgres_upsert(df, engine, table_name=\"offres\"):\n",
    "    \"\"\"\n",
    "    Sauvegarde un DataFrame pandas dans PostgreSQL avec UPSERT.\n",
    "    Met à jour last_updated pour chaque ligne insérée ou modifiée.\n",
    "    \n",
    "    Args:\n",
    "        df (pd.DataFrame): données à insérer\n",
    "        engine (sqlalchemy.Engine): moteur SQLAlchemy connecté à PostgreSQL\n",
    "        table_name (str): nom de la table cible\n",
    "    \n",
    "    Returns:\n",
    "        int: nombre de lignes insérées ou mises à jour\n",
    "    \"\"\"\n",
    "    \n",
    "    if df.empty:\n",
    "        logging.info(\"📭 DataFrame vide, rien à insérer.\")\n",
    "        return 0\n",
    "\n",
    "    # Nettoyage des NaN\n",
    "    df = df.where(pd.notnull(df), None)\n",
    "    \n",
    "    metadata = MetaData()\n",
    "    table = Table(table_name, metadata, autoload_with=engine)\n",
    "    now = datetime.utcnow()\n",
    "    count = 0\n",
    "\n",
    "    try:        \n",
    "        with engine.begin() as conn:\n",
    "            for row in df.to_dict(orient=\"records\"):\n",
    "                row[\"last_updated\"] = now\n",
    "                \n",
    "                # Calcul embedding uniquement si nouvelle offre\n",
    "                if not row.get(\"embedding\"):\n",
    "                    row[\"embedding\"] = compute_embedding(row[\"description\"])\n",
    "                    \n",
    "                stmt = pg_insert(table).values(row)\n",
    "                stmt = stmt.on_conflict_do_update(\n",
    "                    index_elements=['id'],\n",
    "                    set_={\n",
    "                        'source': stmt.excluded.source,\n",
    "                        'titre': stmt.excluded.titre,\n",
    "                        'description': stmt.excluded.description,\n",
    "                        'entreprise': stmt.excluded.entreprise,\n",
    "                        'lieu': stmt.excluded.lieu,\n",
    "                        'latitude': stmt.excluded.latitude,\n",
    "                        'longitude': stmt.excluded.longitude,    \n",
    "                        'type_contrat_libelle': stmt.excluded.type_contrat_libelle,\n",
    "                        'date_publication': stmt.excluded.date_publication,\n",
    "                        'url': stmt.excluded.url,\n",
    "                        'secteur_activites': stmt.excluded.secteur_activites,\n",
    "                        # forcé à chaque exécution, même sans changement d'autres colonnes\n",
    "                        'last_updated': now,\n",
    "                        'embedding': stmt.excluded.embedding\n",
    "                    }\n",
    "                )\n",
    "                conn.execute(stmt)\n",
    "                count += 1\n",
    "        logging.info(f\"{count} offres insérées/mises à jour dans PostgreSQL.\")\n",
    "        return count\n",
    "\n",
    "    except SQLAlchemyError as e:\n",
    "        logging.error(f\"❌ Erreur lors de l'UPSERT : {str(e)}\")\n",
    "        return 0"
   ]
  },
  {
   "cell_type": "markdown",
   "id": "ac263cb7-f4a0-417f-851c-f2690e689095",
   "metadata": {},
   "source": [
    "### Calcul similarité"
   ]
  },
  {
   "cell_type": "code",
   "execution_count": 350,
   "id": "0f9b0410-dbbc-4748-92c2-ced809ec187b",
   "metadata": {},
   "outputs": [],
   "source": [
    "def search_similar_offres(reference_text, engine, top_k=10):\n",
    "    ref_emb = compute_embedding(reference_text)\n",
    "    ref_emb_str = \"[\" + \",\".join(map(str, ref_emb)) + \"]\"  # convertir en string pour PGVector\n",
    "\n",
    "    query = text(\"\"\"\n",
    "        SELECT id, titre, description, entreprise, simil\n",
    "        FROM (\n",
    "            SELECT id, titre, description, entreprise,\n",
    "            1 - (embedding <#> (:ref)::vector) AS simil\n",
    "            FROM offres\n",
    "        ) AS s\n",
    "        ORDER BY simil DESC\n",
    "        LIMIT :k\n",
    "    \"\"\")\n",
    "    \n",
    "    with engine.connect() as conn:\n",
    "        result = conn.execute(query, {\"ref\": ref_emb_str, \"k\": top_k})       \n",
    "        return pd.DataFrame(result.fetchall(),columns=[\"id\",\"titre\",\"description\",\"entreprise\",\"similarity\"])\n"
   ]
  },
  {
   "cell_type": "markdown",
   "id": "fd75112a-913c-4cc2-bdfd-f5a320ac2e9d",
   "metadata": {},
   "source": [
    "### Sauvegarde CSV"
   ]
  },
  {
   "cell_type": "code",
   "execution_count": 351,
   "id": "75d0bd1a-552d-4f1a-a5d5-6c71331c54cd",
   "metadata": {},
   "outputs": [],
   "source": [
    "# --- Sauvegarde Parquet ---\n",
    "def save_to_csv(df):\n",
    "    if df.empty:\n",
    "        return\n",
    "    os.makedirs(CSV_DIR, exist_ok=True)\n",
    "    today = datetime.now().strftime(\"%Y-%m-%d\")\n",
    "    path_csv = os.path.join(CSV_DIR, f\"{today}_offres.csv\")\n",
    "    df.to_csv(path_csv, index=False,encoding=\"utf-8\")\n",
    "    print(f\"✅ Sauvegardé dans {path_csv}\")"
   ]
  },
  {
   "cell_type": "markdown",
   "id": "5e4c69b5-e661-49b9-be53-abe6835a3a74",
   "metadata": {},
   "source": [
    "### Sauvegarde Parquet"
   ]
  },
  {
   "cell_type": "code",
   "execution_count": 352,
   "id": "0b972c51-3307-49aa-a409-21b662763b9f",
   "metadata": {},
   "outputs": [],
   "source": [
    "# --- Sauvegarde Parquet ---\n",
    "def save_to_parquet(df):\n",
    "    if df.empty:\n",
    "        return\n",
    "    os.makedirs(PARQUET_DIR, exist_ok=True)\n",
    "    today = datetime.now().strftime(\"%Y-%m-%d\")\n",
    "    path_parquet = os.path.join(PARQUET_DIR, f\"{today}_offres.parquet\")\n",
    "    df.to_parquet(path_parquet, index=False)\n",
    "    print(f\"✅ Sauvegardé dans {path_parquet}\")"
   ]
  },
  {
   "cell_type": "markdown",
   "id": "54cdda02-d6b6-40a2-bfac-934fc24cf646",
   "metadata": {},
   "source": [
    "### Pipeline principal"
   ]
  },
  {
   "cell_type": "code",
   "execution_count": 353,
   "id": "fb6f8148-0086-47ea-b620-5d32c006c054",
   "metadata": {},
   "outputs": [],
   "source": [
    "# ---------------- PIPELINE ----------------\n",
    "def run_pipeline():\n",
    "    logging.info(\"Début du pipeline.\")\n",
    "\n",
    "    try:        \n",
    "        print(\"Authentification France Travail...\")\n",
    "        token = get_ft_token()\n",
    "    \n",
    "        print(\"Récupération des offres France Travail...\")\n",
    "        ft_jobs = fetch_france_travail_jobs(token)\n",
    "    \n",
    "        print(\"Récupération des offres Adzuna...\")\n",
    "        adzuna_jobs = fetch_adzuna_jobs()\n",
    "    \n",
    "        print(\"Fusion et déduplication...\")\n",
    "        all_jobs = ft_jobs + adzuna_jobs\n",
    "    \n",
    "        if not all_jobs:\n",
    "            print(\"⚠️ Aucune offre trouvée.\")\n",
    "            return\n",
    "    \n",
    "        print(f\"Nombre d'offres d'emploi avant déduplication : {len(all_jobs)}\")\n",
    "        jobs_clean = deduplicate(all_jobs)\n",
    "        print(f\"Nombre d'offres d'emploi après déduplication : {len(jobs_clean)}\")\n",
    "    \n",
    "        print(\"Affichage Extract offres France Travail...\")\n",
    "        df = pd.DataFrame(jobs_clean)\n",
    "    \n",
    "        # Export vers CSV\n",
    "        print(\"💾 Sauvegarde en CSV...\")\n",
    "        save_to_csv(df)\n",
    "    \n",
    "        # Export vers Parquet\n",
    "        print(\"💾 Sauvegarde en Parquet...\")\n",
    "        save_to_parquet(df)\n",
    "        \n",
    "        print(f\"{len(jobs_clean)} offres uniques exportées dans {CSV_DIR} et {PARQUET_DIR} ✅\")\n",
    "    \n",
    "        # Connexion DB\n",
    "        print(\"Connexion à la base PostgreSQL...\")\n",
    "        engine = create_engine(f\"postgresql+psycopg2://{DB_USER}:{DB_PASS}@{DB_HOST}:{DB_PORT}/{DB_NAME}\")\n",
    "    \n",
    "        # Initier la bdd\n",
    "        init_db(engine)\n",
    "    \n",
    "        print(\"💾 Sauvegarde en base PostgreSQL...\")\n",
    "        save_to_postgres_upsert(df, engine, table_name=DB_TABLE_NAME)\n",
    "        print(\"💾 Sauvegarde en base PostgreSQL TERMINEE !!!...\")\n",
    "\n",
    "        # Recherche top offres similaires\n",
    "        print(\"Lancement requête en similarité ...\")\n",
    "        top_offres = search_similar_offres(reference_text_clean,engine, top_k=10)\n",
    "        logging.info(f\"Top 10 offres les plus proches:\\n{top_offres}\")\n",
    "        logging.info(\"Pipeline terminé avec succès.\")\n",
    "    \n",
    "        # Affichage extract offres\n",
    "        display(top_offres.shape)\n",
    "        display(top_offres)\n",
    "\n",
    "        # Affichage extract offres\n",
    "        display(df.shape)\n",
    "        display(df.head(3))\n",
    "\n",
    "        print(\"FIN DU SCRIPT !!!...\")\n",
    "        \n",
    "    except Exception as e:\n",
    "        logging.exception(f\"Pipeline échoué: {e}\")"
   ]
  },
  {
   "cell_type": "code",
   "execution_count": 354,
   "id": "2de560b5-c04e-4118-9662-7069e1da4bf8",
   "metadata": {},
   "outputs": [],
   "source": [
    "# # Chargement depuis CSV\n",
    "# today = datetime.now().strftime(\"%Y-%m-%d\")\n",
    "# path_parquet = os.path.join(PARQUET_DIR, f\"{today}_offres.parquet\")\n",
    "# df = pd.read_parquet(path_parquet)\n",
    "# display(df.shape)\n",
    "# display(df.head(3))"
   ]
  },
  {
   "cell_type": "markdown",
   "id": "c859727e-da41-42a1-9772-fa2708d9d558",
   "metadata": {},
   "source": [
    "### Procédure principale"
   ]
  },
  {
   "cell_type": "code",
   "execution_count": 355,
   "id": "ff03fb25-913a-46ea-a784-b7f5f54e9f61",
   "metadata": {},
   "outputs": [
    {
     "name": "stdout",
     "output_type": "stream",
     "text": [
      "Authentification France Travail...\n",
      "Récupération des offres France Travail...\n",
      "Récupération des offres Adzuna...\n",
      "Fusion et déduplication...\n",
      "Nombre d'offres d'emploi avant déduplication : 1192\n",
      "Nombre d'offres d'emploi après déduplication : 1190\n",
      "Affichage Extract offres France Travail...\n",
      "💾 Sauvegarde en CSV...\n",
      "✅ Sauvegardé dans ../data/csv/2025-09-18_offres.csv\n",
      "💾 Sauvegarde en Parquet...\n",
      "✅ Sauvegardé dans ../data/parquet/2025-09-18_offres.parquet\n",
      "1190 offres uniques exportées dans ../data/csv et ../data/parquet ✅\n",
      "Connexion à la base PostgreSQL...\n",
      "💾 Sauvegarde en base PostgreSQL...\n"
     ]
    },
    {
     "name": "stderr",
     "output_type": "stream",
     "text": [
      "/tmp/ipykernel_2352/252513962.py:23: SAWarning: Did not recognize type 'vector' of column 'embedding'\n",
      "  table = Table(table_name, metadata, autoload_with=engine)\n"
     ]
    },
    {
     "name": "stdout",
     "output_type": "stream",
     "text": [
      "💾 Sauvegarde en base PostgreSQL TERMINEE !!!...\n",
      "Lancement requête en similarité ...\n"
     ]
    },
    {
     "data": {
      "text/plain": [
       "(10, 5)"
      ]
     },
     "metadata": {},
     "output_type": "display_data"
    },
    {
     "data": {
      "text/html": [
       "<div>\n",
       "<style scoped>\n",
       "    .dataframe tbody tr th:only-of-type {\n",
       "        vertical-align: middle;\n",
       "    }\n",
       "\n",
       "    .dataframe tbody tr th {\n",
       "        vertical-align: top;\n",
       "    }\n",
       "\n",
       "    .dataframe thead th {\n",
       "        text-align: right;\n",
       "    }\n",
       "</style>\n",
       "<table border=\"1\" class=\"dataframe\">\n",
       "  <thead>\n",
       "    <tr style=\"text-align: right;\">\n",
       "      <th></th>\n",
       "      <th>id</th>\n",
       "      <th>titre</th>\n",
       "      <th>description</th>\n",
       "      <th>entreprise</th>\n",
       "      <th>similarity</th>\n",
       "    </tr>\n",
       "  </thead>\n",
       "  <tbody>\n",
       "    <tr>\n",
       "      <th>0</th>\n",
       "      <td>1071294</td>\n",
       "      <td>Data analyst (H/F)</td>\n",
       "      <td>Analyse des données (économiques, statistiques...</td>\n",
       "      <td>ENGAGETECH SOCIAL</td>\n",
       "      <td>9.274402</td>\n",
       "    </tr>\n",
       "    <tr>\n",
       "      <th>1</th>\n",
       "      <td>6717979</td>\n",
       "      <td>Data analyst (H/F)</td>\n",
       "      <td>Analyse des données (économiques, statistiques...</td>\n",
       "      <td>L'ECOLE NUMERIQUE</td>\n",
       "      <td>9.274402</td>\n",
       "    </tr>\n",
       "    <tr>\n",
       "      <th>2</th>\n",
       "      <td>5400064907</td>\n",
       "      <td>Data analyst (H/F) (Intérim)</td>\n",
       "      <td>Poste : Votre mission au sein de la data facto...</td>\n",
       "      <td>Leader</td>\n",
       "      <td>8.678255</td>\n",
       "    </tr>\n",
       "    <tr>\n",
       "      <th>3</th>\n",
       "      <td>5399136679</td>\n",
       "      <td>Data analyst (H/F) (Intérim)</td>\n",
       "      <td>Poste : Votre mission au sein de la data facto...</td>\n",
       "      <td>Leader</td>\n",
       "      <td>8.678255</td>\n",
       "    </tr>\n",
       "    <tr>\n",
       "      <th>4</th>\n",
       "      <td>5377455904</td>\n",
       "      <td>BUSINESS DATA analyste informatiqueE (IT)</td>\n",
       "      <td>Je recherche pour un de mes clients un consult...</td>\n",
       "      <td>UCASE CONSULTING</td>\n",
       "      <td>8.422405</td>\n",
       "    </tr>\n",
       "    <tr>\n",
       "      <th>5</th>\n",
       "      <td>5380688338</td>\n",
       "      <td>Data Analyst Senior H/F</td>\n",
       "      <td>Nous recherchons un Data Analyst Senior pour a...</td>\n",
       "      <td>Ekkiden</td>\n",
       "      <td>8.389194</td>\n",
       "    </tr>\n",
       "    <tr>\n",
       "      <th>6</th>\n",
       "      <td>5331594969</td>\n",
       "      <td>Data Analyst Power Bi H/F</td>\n",
       "      <td>L'agence Providence recrute pour l'un de ses c...</td>\n",
       "      <td>PROvidence</td>\n",
       "      <td>8.341934</td>\n",
       "    </tr>\n",
       "    <tr>\n",
       "      <th>7</th>\n",
       "      <td>5339226722</td>\n",
       "      <td>consultant informatique Business analyste info...</td>\n",
       "      <td>Dans le cadre du renforcement de notre équipe ...</td>\n",
       "      <td>CRYSTAL PLACEMENT</td>\n",
       "      <td>8.313993</td>\n",
       "    </tr>\n",
       "    <tr>\n",
       "      <th>8</th>\n",
       "      <td>5386276133</td>\n",
       "      <td>Data Analyst</td>\n",
       "      <td>Offre d’emploi : Data Analyst Power BI – H/F L...</td>\n",
       "      <td>Worldgrid</td>\n",
       "      <td>8.254158</td>\n",
       "    </tr>\n",
       "    <tr>\n",
       "      <th>9</th>\n",
       "      <td>5144986652</td>\n",
       "      <td>Assistant Data Analyst - Alternance H/F</td>\n",
       "      <td>Au sein de notre entreprise partenaire Vos mis...</td>\n",
       "      <td>Digital School of Paris</td>\n",
       "      <td>8.217449</td>\n",
       "    </tr>\n",
       "  </tbody>\n",
       "</table>\n",
       "</div>"
      ],
      "text/plain": [
       "           id                                              titre  \\\n",
       "0     1071294                                 Data analyst (H/F)   \n",
       "1     6717979                                 Data analyst (H/F)   \n",
       "2  5400064907                       Data analyst (H/F) (Intérim)   \n",
       "3  5399136679                       Data analyst (H/F) (Intérim)   \n",
       "4  5377455904          BUSINESS DATA analyste informatiqueE (IT)   \n",
       "5  5380688338                            Data Analyst Senior H/F   \n",
       "6  5331594969                          Data Analyst Power Bi H/F   \n",
       "7  5339226722  consultant informatique Business analyste info...   \n",
       "8  5386276133                                       Data Analyst   \n",
       "9  5144986652            Assistant Data Analyst - Alternance H/F   \n",
       "\n",
       "                                         description               entreprise  \\\n",
       "0  Analyse des données (économiques, statistiques...        ENGAGETECH SOCIAL   \n",
       "1  Analyse des données (économiques, statistiques...        L'ECOLE NUMERIQUE   \n",
       "2  Poste : Votre mission au sein de la data facto...                   Leader   \n",
       "3  Poste : Votre mission au sein de la data facto...                   Leader   \n",
       "4  Je recherche pour un de mes clients un consult...         UCASE CONSULTING   \n",
       "5  Nous recherchons un Data Analyst Senior pour a...                  Ekkiden   \n",
       "6  L'agence Providence recrute pour l'un de ses c...               PROvidence   \n",
       "7  Dans le cadre du renforcement de notre équipe ...        CRYSTAL PLACEMENT   \n",
       "8  Offre d’emploi : Data Analyst Power BI – H/F L...                Worldgrid   \n",
       "9  Au sein de notre entreprise partenaire Vos mis...  Digital School of Paris   \n",
       "\n",
       "   similarity  \n",
       "0    9.274402  \n",
       "1    9.274402  \n",
       "2    8.678255  \n",
       "3    8.678255  \n",
       "4    8.422405  \n",
       "5    8.389194  \n",
       "6    8.341934  \n",
       "7    8.313993  \n",
       "8    8.254158  \n",
       "9    8.217449  "
      ]
     },
     "metadata": {},
     "output_type": "display_data"
    },
    {
     "data": {
      "text/plain": [
       "(1190, 12)"
      ]
     },
     "metadata": {},
     "output_type": "display_data"
    },
    {
     "data": {
      "text/html": [
       "<div>\n",
       "<style scoped>\n",
       "    .dataframe tbody tr th:only-of-type {\n",
       "        vertical-align: middle;\n",
       "    }\n",
       "\n",
       "    .dataframe tbody tr th {\n",
       "        vertical-align: top;\n",
       "    }\n",
       "\n",
       "    .dataframe thead th {\n",
       "        text-align: right;\n",
       "    }\n",
       "</style>\n",
       "<table border=\"1\" class=\"dataframe\">\n",
       "  <thead>\n",
       "    <tr style=\"text-align: right;\">\n",
       "      <th></th>\n",
       "      <th>source</th>\n",
       "      <th>id</th>\n",
       "      <th>titre</th>\n",
       "      <th>description</th>\n",
       "      <th>entreprise</th>\n",
       "      <th>lieu</th>\n",
       "      <th>latitude</th>\n",
       "      <th>longitude</th>\n",
       "      <th>type_contrat_libelle</th>\n",
       "      <th>date_publication</th>\n",
       "      <th>url</th>\n",
       "      <th>secteur_activites</th>\n",
       "    </tr>\n",
       "  </thead>\n",
       "  <tbody>\n",
       "    <tr>\n",
       "      <th>0</th>\n",
       "      <td>France Travail</td>\n",
       "      <td>197XKGK</td>\n",
       "      <td>Data analyst (H/F)</td>\n",
       "      <td>Pourquoi a-t-on besoin de vous?\\nDans le cadre...</td>\n",
       "      <td>SAINT-GOBAIN DISTRIBUTION BATIMENT FRANC</td>\n",
       "      <td>92 - Courbevoie</td>\n",
       "      <td>48.901819</td>\n",
       "      <td>2.267542</td>\n",
       "      <td>CDD - 12 Mois</td>\n",
       "      <td>2025-09-17T07:27:40.068Z</td>\n",
       "      <td>https://candidat.francetravail.fr/offres/reche...</td>\n",
       "      <td>Activités des sièges sociaux</td>\n",
       "    </tr>\n",
       "    <tr>\n",
       "      <th>1</th>\n",
       "      <td>France Travail</td>\n",
       "      <td>197XHCS</td>\n",
       "      <td>DATA ANALYST/SCIENTIST(H/F)</td>\n",
       "      <td>En tant que Data Analyst - Data Scientist, vou...</td>\n",
       "      <td>INFOBAM</td>\n",
       "      <td>972 - LE LAMENTIN</td>\n",
       "      <td>14.615411</td>\n",
       "      <td>-61.003361</td>\n",
       "      <td>CDI</td>\n",
       "      <td>2025-09-16T18:29:39.856Z</td>\n",
       "      <td>https://candidat.francetravail.fr/offres/reche...</td>\n",
       "      <td>Gestion d'installations informatiques</td>\n",
       "    </tr>\n",
       "    <tr>\n",
       "      <th>2</th>\n",
       "      <td>France Travail</td>\n",
       "      <td>197TNXM</td>\n",
       "      <td>Data Analyst ETL / SI Junior - H/F (H/F)</td>\n",
       "      <td>Empreinte est une société Française qui crée, ...</td>\n",
       "      <td>EMPREINTE SA</td>\n",
       "      <td>29 - BREST</td>\n",
       "      <td>48.414003</td>\n",
       "      <td>-4.491985</td>\n",
       "      <td>CDI</td>\n",
       "      <td>2025-09-12T17:46:57.887Z</td>\n",
       "      <td>https://candidat.francetravail.fr/offres/reche...</td>\n",
       "      <td>Fabrication de vêtements de dessous</td>\n",
       "    </tr>\n",
       "  </tbody>\n",
       "</table>\n",
       "</div>"
      ],
      "text/plain": [
       "           source       id                                     titre  \\\n",
       "0  France Travail  197XKGK                        Data analyst (H/F)   \n",
       "1  France Travail  197XHCS               DATA ANALYST/SCIENTIST(H/F)   \n",
       "2  France Travail  197TNXM  Data Analyst ETL / SI Junior - H/F (H/F)   \n",
       "\n",
       "                                         description  \\\n",
       "0  Pourquoi a-t-on besoin de vous?\\nDans le cadre...   \n",
       "1  En tant que Data Analyst - Data Scientist, vou...   \n",
       "2  Empreinte est une société Française qui crée, ...   \n",
       "\n",
       "                                 entreprise               lieu   latitude  \\\n",
       "0  SAINT-GOBAIN DISTRIBUTION BATIMENT FRANC    92 - Courbevoie  48.901819   \n",
       "1                                   INFOBAM  972 - LE LAMENTIN  14.615411   \n",
       "2                              EMPREINTE SA         29 - BREST  48.414003   \n",
       "\n",
       "   longitude type_contrat_libelle          date_publication  \\\n",
       "0   2.267542        CDD - 12 Mois  2025-09-17T07:27:40.068Z   \n",
       "1 -61.003361                  CDI  2025-09-16T18:29:39.856Z   \n",
       "2  -4.491985                  CDI  2025-09-12T17:46:57.887Z   \n",
       "\n",
       "                                                 url  \\\n",
       "0  https://candidat.francetravail.fr/offres/reche...   \n",
       "1  https://candidat.francetravail.fr/offres/reche...   \n",
       "2  https://candidat.francetravail.fr/offres/reche...   \n",
       "\n",
       "                       secteur_activites  \n",
       "0           Activités des sièges sociaux  \n",
       "1  Gestion d'installations informatiques  \n",
       "2    Fabrication de vêtements de dessous  "
      ]
     },
     "metadata": {},
     "output_type": "display_data"
    },
    {
     "name": "stdout",
     "output_type": "stream",
     "text": [
      "FIN DU SCRIPT !!!...\n"
     ]
    }
   ],
   "source": [
    "# ---------------------------\n",
    "# MAIN\n",
    "# ---------------------------\n",
    "if __name__ == \"__main__\":\n",
    "    run_pipeline()"
   ]
  }
 ],
 "metadata": {
  "kernelspec": {
   "display_name": "Python 3 (ipykernel)",
   "language": "python",
   "name": "python3"
  },
  "language_info": {
   "codemirror_mode": {
    "name": "ipython",
    "version": 3
   },
   "file_extension": ".py",
   "mimetype": "text/x-python",
   "name": "python",
   "nbconvert_exporter": "python",
   "pygments_lexer": "ipython3",
   "version": "3.10.6"
  }
 },
 "nbformat": 4,
 "nbformat_minor": 5
}
