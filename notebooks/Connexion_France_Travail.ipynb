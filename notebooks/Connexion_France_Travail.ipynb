{
 "cells": [
  {
   "cell_type": "markdown",
   "id": "598d621d-ffac-4fe6-8e18-07c055e9d366",
   "metadata": {},
   "source": [
    "# Connexion à l'API France Travail"
   ]
  },
  {
   "cell_type": "markdown",
   "id": "ca11d2de-650a-403f-aeca-69e1093b9cae",
   "metadata": {},
   "source": [
    "URL : \n",
    "\n",
    "https://francetravail.io/data/api/offres-emploi\n",
    "\n",
    "https://francetravail.io/data/api/offres-emploi/documentation#/"
   ]
  },
  {
   "cell_type": "markdown",
   "id": "6a77453b-9814-4567-97aa-7f680bfdfe9b",
   "metadata": {},
   "source": [
    "## Imports"
   ]
  },
  {
   "cell_type": "code",
   "execution_count": 67,
   "id": "59e94172-c17e-4a12-9519-d1b26cd600df",
   "metadata": {},
   "outputs": [],
   "source": [
    "import http.client\n",
    "import requests\n",
    "import json\n",
    "import pandas as pd"
   ]
  },
  {
   "cell_type": "code",
   "execution_count": 68,
   "id": "a7e584ac-10ea-43eb-b49d-12832d613b46",
   "metadata": {},
   "outputs": [
    {
     "name": "stdout",
     "output_type": "stream",
     "text": [
      "Authentification France Travail...\n",
      "Récupération des offres France Travail...\n",
      "           source                                    titre  \\\n",
      "0  France Travail                       Data analyst (H/F)   \n",
      "1  France Travail                       Data Analyst (h/f)   \n",
      "2  France Travail  Data Analyst Technico-fonctionnel (H/F)   \n",
      "3  France Travail                 Data analyst (F/H) (H/F)   \n",
      "4  France Travail                       Data analyst (F/H)   \n",
      "\n",
      "           entreprise              lieu                      date  \\\n",
      "0  LEADER GOLBEY 2029       88 - Épinal  2025-09-13T13:57:01.416Z   \n",
      "1       ADECCO FRANCE    13 - Marignane  2025-09-09T16:27:22.779Z   \n",
      "2              AFSTER      69 - LYON 01  2025-09-05T15:12:07.043Z   \n",
      "3      AESIO MUTUELLE      26 - Valence  2025-09-04T13:51:37.276Z   \n",
      "4            EXPECTRA  34 - Montpellier  2025-09-02T14:41:39.561Z   \n",
      "\n",
      "                                                 url  \n",
      "0  https://candidat.francetravail.fr/offres/reche...  \n",
      "1  https://candidat.francetravail.fr/offres/reche...  \n",
      "2  https://candidat.francetravail.fr/offres/reche...  \n",
      "3  https://candidat.francetravail.fr/offres/reche...  \n",
      "4  https://candidat.francetravail.fr/offres/reche...  \n",
      "150 offres uniques exportées dans offres_emploi.csv ✅\n"
     ]
    }
   ],
   "source": [
    "# ---------------------------\n",
    "# CONFIGURATION\n",
    "# ---------------------------\n",
    "# France Travail (ex-Pôle emploi)\n",
    "# FT_CLIENT_ID = Defined in .env\n",
    "# FT_CLIENT_SECRET = Defined in .env\n",
    "# FT_SCOPE = Defined in .env\n",
    "\n",
    "# Paramètres de recherche\n",
    "JOB_QUERY = \"data analyst\"\n",
    "LOCATION = \"Paris\"\n",
    "MAX_PAGES = 3   # Limiter le nombre de pages récupérées\n",
    "\n",
    "# ---------------------------\n",
    "# AUTH FRANCE TRAVAIL\n",
    "# ---------------------------\n",
    "def get_ft_token():\n",
    "    url = \"https://entreprise.pole-emploi.fr/connexion/oauth2/access_token?realm=/partenaire\"\n",
    "    data = {\n",
    "        \"grant_type\": \"client_credentials\",\n",
    "        \"client_id\": FT_CLIENT_ID,\n",
    "        \"client_secret\": FT_CLIENT_SECRET,\n",
    "        \"scope\": FT_SCOPE,\n",
    "    }\n",
    "    r = requests.post(url, data=data)\n",
    "    r.raise_for_status()\n",
    "    return r.json()[\"access_token\"]\n",
    "\n",
    "# ---------------------------\n",
    "# API CALL FRANCE TRAVAIL\n",
    "# ---------------------------\n",
    "def fetch_france_travail_jobs(token, max_pages=MAX_PAGES):\n",
    "    headers = {\"Authorization\": f\"Bearer {token}\"}\n",
    "    all_jobs = []\n",
    "    for page in range(1, max_pages + 1):\n",
    "        url = f\"https://api.francetravail.io/partenaire/offresdemploi/v2/offres/search\"\n",
    "        params = {\n",
    "            \"motsCles\": JOB_QUERY,\n",
    "            \"lieux\": LOCATION,\n",
    "            \"range\": f\"{(page-1)*50}-{page*50-1}\"  # pagination par blocs de 50\n",
    "        }\n",
    "        r = requests.get(url, headers=headers, params=params)\n",
    "        r.raise_for_status()\n",
    "        data = r.json()\n",
    "        offres = data.get(\"resultats\", [])\n",
    "        for o in offres:\n",
    "            all_jobs.append({\n",
    "                \"source\": \"France Travail\",\n",
    "                \"titre\": o.get(\"intitule\"),\n",
    "                \"entreprise\": o.get(\"entreprise\", {}).get(\"nom\"),\n",
    "                \"lieu\": o.get(\"lieuTravail\", {}).get(\"libelle\"),\n",
    "                \"date\": o.get(\"dateCreation\"),\n",
    "                \"url\": o.get(\"origineOffre\", {}).get(\"urlOrigine\"),\n",
    "            })\n",
    "    return all_jobs\n",
    "\n",
    "# ---------------------------\n",
    "# MAIN\n",
    "# ---------------------------\n",
    "if __name__ == \"__main__\":\n",
    "    print(\"Authentification France Travail...\")\n",
    "    token = get_ft_token()\n",
    "\n",
    "    print(\"Récupération des offres France Travail...\")\n",
    "    ft_jobs = fetch_france_travail_jobs(token)\n",
    "\n",
    "    df = pd.DataFrame(ft_jobs)\n",
    "    print(df.head())\n",
    "\n",
    "    # Export vers CSV\n",
    "    df.to_csv(\"../data/raw_data/offres_emploi.csv\", index=False, encoding=\"utf-8\")\n",
    "    print(f\"{len(ft_jobs)} offres uniques exportées dans offres_emploi.csv ✅\")\n"
   ]
  }
 ],
 "metadata": {
  "kernelspec": {
   "display_name": "Python 3 (ipykernel)",
   "language": "python",
   "name": "python3"
  },
  "language_info": {
   "codemirror_mode": {
    "name": "ipython",
    "version": 3
   },
   "file_extension": ".py",
   "mimetype": "text/x-python",
   "name": "python",
   "nbconvert_exporter": "python",
   "pygments_lexer": "ipython3",
   "version": "3.10.6"
  }
 },
 "nbformat": 4,
 "nbformat_minor": 5
}
